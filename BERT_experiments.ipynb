{
 "cells": [
  {
   "cell_type": "code",
   "execution_count": 2,
   "id": "c91be290-ffab-4028-92d4-3841537b15d4",
   "metadata": {},
   "outputs": [
    {
     "name": "stdout",
     "output_type": "stream",
     "text": [
      "Requirement already satisfied: transformers in /projectnb/ivc-ml/gitika/conda/cs505project/lib/python3.8/site-packages (4.36.2)\n",
      "Requirement already satisfied: filelock in /projectnb/ivc-ml/gitika/conda/cs505project/lib/python3.8/site-packages (from transformers) (3.13.1)\n",
      "Requirement already satisfied: huggingface-hub<1.0,>=0.19.3 in /projectnb/ivc-ml/gitika/conda/cs505project/lib/python3.8/site-packages (from transformers) (0.20.1)\n",
      "Requirement already satisfied: numpy>=1.17 in /projectnb/ivc-ml/gitika/conda/cs505project/lib/python3.8/site-packages (from transformers) (1.24.4)\n",
      "Requirement already satisfied: packaging>=20.0 in /projectnb/ivc-ml/gitika/conda/cs505project/lib/python3.8/site-packages (from transformers) (23.1)\n",
      "Requirement already satisfied: pyyaml>=5.1 in /projectnb/ivc-ml/gitika/conda/cs505project/lib/python3.8/site-packages (from transformers) (6.0.1)\n",
      "Requirement already satisfied: regex!=2019.12.17 in /projectnb/ivc-ml/gitika/conda/cs505project/lib/python3.8/site-packages (from transformers) (2023.10.3)\n",
      "Requirement already satisfied: requests in /projectnb/ivc-ml/gitika/conda/cs505project/lib/python3.8/site-packages (from transformers) (2.31.0)\n",
      "Requirement already satisfied: tokenizers<0.19,>=0.14 in /projectnb/ivc-ml/gitika/conda/cs505project/lib/python3.8/site-packages (from transformers) (0.15.0)\n",
      "Requirement already satisfied: safetensors>=0.3.1 in /projectnb/ivc-ml/gitika/conda/cs505project/lib/python3.8/site-packages (from transformers) (0.4.1)\n",
      "Requirement already satisfied: tqdm>=4.27 in /projectnb/ivc-ml/gitika/conda/cs505project/lib/python3.8/site-packages (from transformers) (4.66.1)\n",
      "Requirement already satisfied: fsspec>=2023.5.0 in /projectnb/ivc-ml/gitika/conda/cs505project/lib/python3.8/site-packages (from huggingface-hub<1.0,>=0.19.3->transformers) (2023.12.2)\n",
      "Requirement already satisfied: typing-extensions>=3.7.4.3 in /projectnb/ivc-ml/gitika/conda/cs505project/lib/python3.8/site-packages (from huggingface-hub<1.0,>=0.19.3->transformers) (4.7.1)\n",
      "Requirement already satisfied: charset-normalizer<4,>=2 in /projectnb/ivc-ml/gitika/conda/cs505project/lib/python3.8/site-packages (from requests->transformers) (2.0.4)\n",
      "Requirement already satisfied: idna<4,>=2.5 in /projectnb/ivc-ml/gitika/conda/cs505project/lib/python3.8/site-packages (from requests->transformers) (3.4)\n",
      "Requirement already satisfied: urllib3<3,>=1.21.1 in /projectnb/ivc-ml/gitika/conda/cs505project/lib/python3.8/site-packages (from requests->transformers) (1.26.18)\n",
      "Requirement already satisfied: certifi>=2017.4.17 in /projectnb/ivc-ml/gitika/conda/cs505project/lib/python3.8/site-packages (from requests->transformers) (2023.11.17)\n"
     ]
    }
   ],
   "source": [
    "!pip install transformers"
   ]
  },
  {
   "cell_type": "code",
   "execution_count": 21,
   "id": "e9ef43e9-435c-47e5-8710-08e34ba0d653",
   "metadata": {},
   "outputs": [],
   "source": [
    "import os\n",
    "import json\n",
    "import torch\n",
    "from transformers import BertTokenizer, BertForMaskedLM, AdamW\n",
    "from torch.utils.data import Dataset, DataLoader"
   ]
  },
  {
   "cell_type": "code",
   "execution_count": 22,
   "id": "1c0c2675-0ac1-49bf-ab68-b4a774dadd04",
   "metadata": {},
   "outputs": [],
   "source": [
    "data_path = './project_data/preprocessed_data_no_stemming'"
   ]
  },
  {
   "cell_type": "code",
   "execution_count": 23,
   "id": "8002e376-0f31-40a8-8206-02da927fed83",
   "metadata": {},
   "outputs": [],
   "source": [
    "data = []\n",
    "for filename in os.listdir(data_path):\n",
    "    if filename.endswith(\".json\"):\n",
    "        file_path = os.path.join(data_path, filename)\n",
    "\n",
    "        with open(file_path, 'r') as file:\n",
    "            try:\n",
    "                file_content = json.load(file)\n",
    "                data.append(file_content)\n",
    "            except json.JSONDecodeError as e:\n",
    "                print(f\"Error decoding JSON in {filename}: {e}\")"
   ]
  },
  {
   "cell_type": "code",
   "execution_count": 24,
   "id": "fac30480-b3fc-4dc4-9724-a3cb68cfbb18",
   "metadata": {},
   "outputs": [],
   "source": [
    "tokenizer = BertTokenizer.from_pretrained(\"bert-base-uncased\")\n",
    "tokenized_data = tokenizer([entry[\"Text\"] for entry in data], padding=True, truncation=True, return_tensors=\"pt\")"
   ]
  },
  {
   "cell_type": "code",
   "execution_count": 40,
   "id": "00912574-8cc4-48ec-bc7d-1c9a75116808",
   "metadata": {},
   "outputs": [],
   "source": [
    "class CustomDataset(Dataset):\n",
    "    def __init__(self, tokenized_data):\n",
    "        self.tokenized_data = tokenized_data\n",
    "\n",
    "    def __len__(self):\n",
    "        return len(self.tokenized_data[\"input_ids\"])\n",
    "\n",
    "    def __getitem__(self, idx):\n",
    "        return {\n",
    "            \"input_ids\": self.tokenized_data[\"input_ids\"][idx],\n",
    "            \"attention_mask\": self.tokenized_data[\"attention_mask\"][idx],\n",
    "        }"
   ]
  },
  {
   "cell_type": "code",
   "execution_count": 41,
   "id": "23318595-4910-446f-96f4-f381e9844f4b",
   "metadata": {},
   "outputs": [],
   "source": [
    "batch_size = 16\n",
    "train_dataset = CustomDataset(tokenized_data)\n",
    "train_loader = DataLoader(train_dataset, batch_size=batch_size, shuffle=True)\n"
   ]
  },
  {
   "cell_type": "code",
   "execution_count": 42,
   "id": "6596f92f-d542-4171-9bf7-0d2beabad913",
   "metadata": {},
   "outputs": [],
   "source": [
    "device = torch.device(\"cuda:0\" if torch.cuda.is_available() else \"cpu\")\n"
   ]
  },
  {
   "cell_type": "code",
   "execution_count": 43,
   "id": "f86a8795-2564-4889-ba43-198400c777ee",
   "metadata": {},
   "outputs": [
    {
     "name": "stderr",
     "output_type": "stream",
     "text": [
      "Some weights of the model checkpoint at bert-base-uncased were not used when initializing BertForMaskedLM: ['bert.pooler.dense.weight', 'cls.seq_relationship.bias', 'bert.pooler.dense.bias', 'cls.seq_relationship.weight']\n",
      "- This IS expected if you are initializing BertForMaskedLM from the checkpoint of a model trained on another task or with another architecture (e.g. initializing a BertForSequenceClassification model from a BertForPreTraining model).\n",
      "- This IS NOT expected if you are initializing BertForMaskedLM from the checkpoint of a model that you expect to be exactly identical (initializing a BertForSequenceClassification model from a BertForSequenceClassification model).\n"
     ]
    }
   ],
   "source": [
    "model = BertForMaskedLM.from_pretrained(\"bert-base-uncased\").to(device)\n"
   ]
  },
  {
   "cell_type": "code",
   "execution_count": 44,
   "id": "9e6919c2-de39-498b-b3ac-e6bd1ba54d28",
   "metadata": {},
   "outputs": [],
   "source": [
    "optimizer = AdamW(model.parameters(), lr=1e-5)\n",
    "num_epochs = 25"
   ]
  },
  {
   "cell_type": "code",
   "execution_count": 46,
   "id": "222c42c0-fad9-4487-ad93-8fb6083f8117",
   "metadata": {},
   "outputs": [
    {
     "name": "stdout",
     "output_type": "stream",
     "text": [
      "Epoch 1/25, Average Loss: 3.845113754272461\n",
      "Epoch 2/25, Average Loss: 2.9096251726150513\n",
      "Epoch 3/25, Average Loss: 2.4412770867347717\n",
      "Epoch 4/25, Average Loss: 2.3451242446899414\n",
      "Epoch 5/25, Average Loss: 2.15756893157959\n",
      "Epoch 6/25, Average Loss: 2.0329882502555847\n",
      "Epoch 7/25, Average Loss: 2.045157730579376\n",
      "Epoch 8/25, Average Loss: 1.8188133239746094\n",
      "Epoch 9/25, Average Loss: 1.7606770396232605\n",
      "Epoch 10/25, Average Loss: 1.5147927179932594\n",
      "Epoch 11/25, Average Loss: 1.5512704253196716\n",
      "Epoch 12/25, Average Loss: 1.4545140266418457\n",
      "Epoch 13/25, Average Loss: 1.3750309646129608\n",
      "Epoch 14/25, Average Loss: 1.3124648332595825\n",
      "Epoch 15/25, Average Loss: 1.2209280133247375\n",
      "Epoch 16/25, Average Loss: 1.09537273645401\n",
      "Epoch 17/25, Average Loss: 1.161871075630188\n",
      "Epoch 18/25, Average Loss: 0.9983936548233032\n",
      "Epoch 19/25, Average Loss: 0.9208071492612362\n",
      "Epoch 20/25, Average Loss: 0.9834158420562744\n",
      "Epoch 21/25, Average Loss: 0.905098021030426\n",
      "Epoch 22/25, Average Loss: 0.8915821313858032\n",
      "Epoch 23/25, Average Loss: 0.8404102325439453\n",
      "Epoch 24/25, Average Loss: 0.8226749897003174\n",
      "Epoch 25/25, Average Loss: 0.7355641722679138\n"
     ]
    }
   ],
   "source": [
    "losses = []\n",
    "\n",
    "for epoch in range(num_epochs):\n",
    "    model.train()\n",
    "    total_loss = 0\n",
    "\n",
    "    for batch in train_loader:\n",
    "        input_ids = batch[\"input_ids\"].to(device)\n",
    "        attention_mask = batch[\"attention_mask\"].to(device)\n",
    "\n",
    "        optimizer.zero_grad()\n",
    "        outputs = model(input_ids, attention_mask=attention_mask, labels=input_ids)\n",
    "        loss = outputs.loss\n",
    "        total_loss += loss.item()\n",
    "\n",
    "        loss.backward()\n",
    "        optimizer.step()\n",
    "\n",
    "    average_loss = total_loss / len(train_loader)\n",
    "    losses.append(average_loss)\n",
    "    print(f\"Epoch {epoch + 1}/{num_epochs}, Average Loss: {average_loss}\")"
   ]
  },
  {
   "cell_type": "code",
   "execution_count": 48,
   "id": "15360513-d6db-4cd9-aa02-b3da6c3dc24f",
   "metadata": {},
   "outputs": [
    {
     "data": {
      "image/png": "[encoded data removed]",
      "text/plain": [
       "<Figure size 640x480 with 1 Axes>"
      ]
     },
     "metadata": {},
     "output_type": "display_data"
    }
   ],
   "source": [
    "import matplotlib.pyplot as plt\n",
    "plt.plot(range(1, num_epochs + 1), losses, marker='o')\n",
    "plt.xlabel('Epoch')\n",
    "plt.ylabel('Average Loss')\n",
    "plt.title('Training Loss Over Epochs')\n",
    "plt.grid(True)\n",
    "plt.show()"
   ]
  },
  {
   "cell_type": "code",
   "execution_count": 51,
   "id": "aa818c6f-3d56-4ef4-a78a-09b6e68dc785",
   "metadata": {
    "scrolled": true
   },
   "outputs": [
    {
     "name": "stdout",
     "output_type": "stream",
     "text": [
      "Generated Sentence: america is europe ; asia oceania is africa oceania and australia ; africaesis is asia and oceania ; americas are americas and are continents and continents of the world ; tropical and temperate regions asia is temperate and tropical regions are tropicals and regions respectively, the continents are regions and polar regions. arctic is the arctic and the antarctic and arctic regions while tropical ; temperate region are temperate tropical tropical respectively respectively. temperate polar is polar and antarctic regions whereas arctic encompasses are the north and south polar arctic. africa arctic\n",
      "Generated Sentence: america is europe ; oceania is asia ; and even africa is africa. somewhere else entirely... somewhere, somewhere in, someplace else... someplace entirely. someplace, wherever... somehow, even somewhere... wherever, perhaps even somehow... or, or even someplace... perhaps, entirely or altogether... anywhere else even - or somewhere - somewhere. or someplace -,......, somehow entirely, maybe... quite, anywhere altogether or... everywhere... entirely exactly... australia is somewhere entirely - and oceania... and entirely\n",
      "Generated Sentence: america is canada is australia europe is oceania oceania asia oceania australia is africa oceania africa is asia pacific asia arctic is americas asia east pacific arctic region arctic siberia arctic siberian arctic arctic regions arcticographic regions north polar arctic temperate regions polar regions siberia paleographic arctic polar siberia siberia polar region siberian siberia siberian regions siberian region central arctic xinjiang arctic central polar siberian siberian polar polar temperate region eastern arctic eurasian siberian central regions eastern polar central temperate arctic northwestern polar northwestern arctic northern siberian northwestern siberian asia siberian northern siberia northwestern northwestern siberia\n",
      "Generated Sentence: america is europe ; oceania is africa ; australia is south and southwest asia ; asia is oceania and tropical regions and regions ; africa is tropical region and oceania ; americas is the region or region of a given and adjoining region respectively ; allocating regions to respective respective geographical regions or geographical within the corresponding respective regions / geographic geographic and region / east or geographic geographical / geographical or corresponding geographical geographic / regions by respective geographic or tropical or regions within corresponding geographic regions respective asia / corresponding / respectively or adjacent or\n",
      "Generated Sentence: america is europe africa asia oceania oceania asia pacific oceania africa south america oceania region asia asia southeast asia arctic regions asia polar regions arctic arctic and antarctic regions maritime zones arctic region arctic antarctic zones regions polar temperate regions northern hemisphere regions tropical regions regions temperate areas temperate temperate plains regions region regions geographic regions geographical polar zones polar region temperate region and arctic geographical regions arid arctic polar northern temperate arctic tropical polar climates arctic highland region polar arctic temperate polar polar regional regions areas arctic northern polar tropical region tropical alpine regions pacific region region\n"
     ]
    }
   ],
   "source": [
    "num_sentences = 5\n",
    "\n",
    "for _ in range(num_sentences):\n",
    "    prompt = \"America is\"  # You can choose a seed sentence\n",
    "    input_ids = tokenizer.encode(prompt, return_tensors=\"pt\").to(device)\n",
    "\n",
    "    # Generate a sequence of tokens\n",
    "    with torch.no_grad():\n",
    "        output = model.generate(input_ids, max_length=100, num_beams=5, no_repeat_ngram_size=2, top_k=50, top_p=0.95)\n",
    "\n",
    "    # Decode the generated sequence and print the result\n",
    "    generated_sentence = tokenizer.decode(output[0], skip_special_tokens=True)\n",
    "    print(\"Generated Sentence:\", generated_sentence)"
   ]
  },
  {
   "cell_type": "code",
   "execution_count": null,
   "id": "6edd7bfc-e5a3-4901-80b4-454c0570e28d",
   "metadata": {},
   "outputs": [],
   "source": []
  }
 ],
 "metadata": {
  "kernelspec": {
   "display_name": "Python [conda env:cs505project] *",
   "language": "python",
   "name": "conda-env-cs505project-py"
  },
  "language_info": {
   "codemirror_mode": {
    "name": "ipython",
    "version": 3
   },
   "file_extension": ".py",
   "mimetype": "text/x-python",
   "name": "python",
   "nbconvert_exporter": "python",
   "pygments_lexer": "ipython3",
   "version": "3.8.18"
  }
 },
 "nbformat": 4,
 "nbformat_minor": 5
}
