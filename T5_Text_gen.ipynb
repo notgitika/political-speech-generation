{
  "nbformat": 4,
  "nbformat_minor": 0,
  "metadata": {
    "colab": {
      "provenance": [],
      "gpuType": "T4"
    },
    "kernelspec": {
      "name": "python3",
      "display_name": "Python 3"
    },
    "language_info": {
      "name": "python"
    },
    "accelerator": "GPU",
    "widgets": {
      "application/vnd.jupyter.widget-state+json": {
        "29bf63f9a6de42c9930c1a0df7db6000": {
          "model_module": "@jupyter-widgets/controls",
          "model_name": "HBoxModel",
          "model_module_version": "1.5.0",
          "state": {
            "_dom_classes": [],
            "_model_module": "@jupyter-widgets/controls",
            "_model_module_version": "1.5.0",
            "_model_name": "HBoxModel",
            "_view_count": null,
            "_view_module": "@jupyter-widgets/controls",
            "_view_module_version": "1.5.0",
            "_view_name": "HBoxView",
            "box_style": "",
            "children": [
              "IPY_MODEL_da3c54ecdb6c43b4afc9ddecb0332120",
              "IPY_MODEL_3c9b0aa18f0c4acdbdcc18de75be4a56",
              "IPY_MODEL_fce16938e4e94ca6a65b59cf6db87eb4"
            ],
            "layout": "IPY_MODEL_298fd9760197429880e9efcacae7ccf3"
          }
        },
        "da3c54ecdb6c43b4afc9ddecb0332120": {
          "model_module": "@jupyter-widgets/controls",
          "model_name": "HTMLModel",
          "model_module_version": "1.5.0",
          "state": {
            "_dom_classes": [],
            "_model_module": "@jupyter-widgets/controls",
            "_model_module_version": "1.5.0",
            "_model_name": "HTMLModel",
            "_view_count": null,
            "_view_module": "@jupyter-widgets/controls",
            "_view_module_version": "1.5.0",
            "_view_name": "HTMLView",
            "description": "",
            "description_tooltip": null,
            "layout": "IPY_MODEL_527525ecfa6f49acbb5dd70684893853",
            "placeholder": "​",
            "style": "IPY_MODEL_514abb7b86404499b42e6c7b0fccc2ea",
            "value": "config.json: 100%"
          }
        },
        "3c9b0aa18f0c4acdbdcc18de75be4a56": {
          "model_module": "@jupyter-widgets/controls",
          "model_name": "FloatProgressModel",
          "model_module_version": "1.5.0",
          "state": {
            "_dom_classes": [],
            "_model_module": "@jupyter-widgets/controls",
            "_model_module_version": "1.5.0",
            "_model_name": "FloatProgressModel",
            "_view_count": null,
            "_view_module": "@jupyter-widgets/controls",
            "_view_module_version": "1.5.0",
            "_view_name": "ProgressView",
            "bar_style": "success",
            "description": "",
            "description_tooltip": null,
            "layout": "IPY_MODEL_c45134070b2e4bb8a6fad362c63f4be2",
            "max": 1206,
            "min": 0,
            "orientation": "horizontal",
            "style": "IPY_MODEL_fd97d98d5f964e0eb4c0dc58143f54b1",
            "value": 1206
          }
        },
        "fce16938e4e94ca6a65b59cf6db87eb4": {
          "model_module": "@jupyter-widgets/controls",
          "model_name": "HTMLModel",
          "model_module_version": "1.5.0",
          "state": {
            "_dom_classes": [],
            "_model_module": "@jupyter-widgets/controls",
            "_model_module_version": "1.5.0",
            "_model_name": "HTMLModel",
            "_view_count": null,
            "_view_module": "@jupyter-widgets/controls",
            "_view_module_version": "1.5.0",
            "_view_name": "HTMLView",
            "description": "",
            "description_tooltip": null,
            "layout": "IPY_MODEL_9976b1cfcf64448bb726e4ef3101fa88",
            "placeholder": "​",
            "style": "IPY_MODEL_8c335f6df7474258b963cde934844ed2",
            "value": " 1.21k/1.21k [00:00&lt;00:00, 57.2kB/s]"
          }
        },
        "298fd9760197429880e9efcacae7ccf3": {
          "model_module": "@jupyter-widgets/base",
          "model_name": "LayoutModel",
          "model_module_version": "1.2.0",
          "state": {
            "_model_module": "@jupyter-widgets/base",
            "_model_module_version": "1.2.0",
            "_model_name": "LayoutModel",
            "_view_count": null,
            "_view_module": "@jupyter-widgets/base",
            "_view_module_version": "1.2.0",
            "_view_name": "LayoutView",
            "align_content": null,
            "align_items": null,
            "align_self": null,
            "border": null,
            "bottom": null,
            "display": null,
            "flex": null,
            "flex_flow": null,
            "grid_area": null,
            "grid_auto_columns": null,
            "grid_auto_flow": null,
            "grid_auto_rows": null,
            "grid_column": null,
            "grid_gap": null,
            "grid_row": null,
            "grid_template_areas": null,
            "grid_template_columns": null,
            "grid_template_rows": null,
            "height": null,
            "justify_content": null,
            "justify_items": null,
            "left": null,
            "margin": null,
            "max_height": null,
            "max_width": null,
            "min_height": null,
            "min_width": null,
            "object_fit": null,
            "object_position": null,
            "order": null,
            "overflow": null,
            "overflow_x": null,
            "overflow_y": null,
            "padding": null,
            "right": null,
            "top": null,
            "visibility": null,
            "width": null
          }
        },
        "527525ecfa6f49acbb5dd70684893853": {
          "model_module": "@jupyter-widgets/base",
          "model_name": "LayoutModel",
          "model_module_version": "1.2.0",
          "state": {
            "_model_module": "@jupyter-widgets/base",
            "_model_module_version": "1.2.0",
            "_model_name": "LayoutModel",
            "_view_count": null,
            "_view_module": "@jupyter-widgets/base",
            "_view_module_version": "1.2.0",
            "_view_name": "LayoutView",
            "align_content": null,
            "align_items": null,
            "align_self": null,
            "border": null,
            "bottom": null,
            "display": null,
            "flex": null,
            "flex_flow": null,
            "grid_area": null,
            "grid_auto_columns": null,
            "grid_auto_flow": null,
            "grid_auto_rows": null,
            "grid_column": null,
            "grid_gap": null,
            "grid_row": null,
            "grid_template_areas": null,
            "grid_template_columns": null,
            "grid_template_rows": null,
            "height": null,
            "justify_content": null,
            "justify_items": null,
            "left": null,
            "margin": null,
            "max_height": null,
            "max_width": null,
            "min_height": null,
            "min_width": null,
            "object_fit": null,
            "object_position": null,
            "order": null,
            "overflow": null,
            "overflow_x": null,
            "overflow_y": null,
            "padding": null,
            "right": null,
            "top": null,
            "visibility": null,
            "width": null
          }
        },
        "514abb7b86404499b42e6c7b0fccc2ea": {
          "model_module": "@jupyter-widgets/controls",
          "model_name": "DescriptionStyleModel",
          "model_module_version": "1.5.0",
          "state": {
            "_model_module": "@jupyter-widgets/controls",
            "_model_module_version": "1.5.0",
            "_model_name": "DescriptionStyleModel",
            "_view_count": null,
            "_view_module": "@jupyter-widgets/base",
            "_view_module_version": "1.2.0",
            "_view_name": "StyleView",
            "description_width": ""
          }
        },
        "c45134070b2e4bb8a6fad362c63f4be2": {
          "model_module": "@jupyter-widgets/base",
          "model_name": "LayoutModel",
          "model_module_version": "1.2.0",
          "state": {
            "_model_module": "@jupyter-widgets/base",
            "_model_module_version": "1.2.0",
            "_model_name": "LayoutModel",
            "_view_count": null,
            "_view_module": "@jupyter-widgets/base",
            "_view_module_version": "1.2.0",
            "_view_name": "LayoutView",
            "align_content": null,
            "align_items": null,
            "align_self": null,
            "border": null,
            "bottom": null,
            "display": null,
            "flex": null,
            "flex_flow": null,
            "grid_area": null,
            "grid_auto_columns": null,
            "grid_auto_flow": null,
            "grid_auto_rows": null,
            "grid_column": null,
            "grid_gap": null,
            "grid_row": null,
            "grid_template_areas": null,
            "grid_template_columns": null,
            "grid_template_rows": null,
            "height": null,
            "justify_content": null,
            "justify_items": null,
            "left": null,
            "margin": null,
            "max_height": null,
            "max_width": null,
            "min_height": null,
            "min_width": null,
            "object_fit": null,
            "object_position": null,
            "order": null,
            "overflow": null,
            "overflow_x": null,
            "overflow_y": null,
            "padding": null,
            "right": null,
            "top": null,
            "visibility": null,
            "width": null
          }
        },
        "fd97d98d5f964e0eb4c0dc58143f54b1": {
          "model_module": "@jupyter-widgets/controls",
          "model_name": "ProgressStyleModel",
          "model_module_version": "1.5.0",
          "state": {
            "_model_module": "@jupyter-widgets/controls",
            "_model_module_version": "1.5.0",
            "_model_name": "ProgressStyleModel",
            "_view_count": null,
            "_view_module": "@jupyter-widgets/base",
            "_view_module_version": "1.2.0",
            "_view_name": "StyleView",
            "bar_color": null,
            "description_width": ""
          }
        },
        "9976b1cfcf64448bb726e4ef3101fa88": {
          "model_module": "@jupyter-widgets/base",
          "model_name": "LayoutModel",
          "model_module_version": "1.2.0",
          "state": {
            "_model_module": "@jupyter-widgets/base",
            "_model_module_version": "1.2.0",
            "_model_name": "LayoutModel",
            "_view_count": null,
            "_view_module": "@jupyter-widgets/base",
            "_view_module_version": "1.2.0",
            "_view_name": "LayoutView",
            "align_content": null,
            "align_items": null,
            "align_self": null,
            "border": null,
            "bottom": null,
            "display": null,
            "flex": null,
            "flex_flow": null,
            "grid_area": null,
            "grid_auto_columns": null,
            "grid_auto_flow": null,
            "grid_auto_rows": null,
            "grid_column": null,
            "grid_gap": null,
            "grid_row": null,
            "grid_template_areas": null,
            "grid_template_columns": null,
            "grid_template_rows": null,
            "height": null,
            "justify_content": null,
            "justify_items": null,
            "left": null,
            "margin": null,
            "max_height": null,
            "max_width": null,
            "min_height": null,
            "min_width": null,
            "object_fit": null,
            "object_position": null,
            "order": null,
            "overflow": null,
            "overflow_x": null,
            "overflow_y": null,
            "padding": null,
            "right": null,
            "top": null,
            "visibility": null,
            "width": null
          }
        },
        "8c335f6df7474258b963cde934844ed2": {
          "model_module": "@jupyter-widgets/controls",
          "model_name": "DescriptionStyleModel",
          "model_module_version": "1.5.0",
          "state": {
            "_model_module": "@jupyter-widgets/controls",
            "_model_module_version": "1.5.0",
            "_model_name": "DescriptionStyleModel",
            "_view_count": null,
            "_view_module": "@jupyter-widgets/base",
            "_view_module_version": "1.2.0",
            "_view_name": "StyleView",
            "description_width": ""
          }
        },
        "433ddc034a744910b28ca85f49c1a445": {
          "model_module": "@jupyter-widgets/controls",
          "model_name": "HBoxModel",
          "model_module_version": "1.5.0",
          "state": {
            "_dom_classes": [],
            "_model_module": "@jupyter-widgets/controls",
            "_model_module_version": "1.5.0",
            "_model_name": "HBoxModel",
            "_view_count": null,
            "_view_module": "@jupyter-widgets/controls",
            "_view_module_version": "1.5.0",
            "_view_name": "HBoxView",
            "box_style": "",
            "children": [
              "IPY_MODEL_1a226132e076453b8bb27c631b911e57",
              "IPY_MODEL_ebf403e22ce7482b889f1098db84c433",
              "IPY_MODEL_093f016c29414fba9e58c5968a678244"
            ],
            "layout": "IPY_MODEL_c936cb9326f04dab88b0a6834d90ec26"
          }
        },
        "1a226132e076453b8bb27c631b911e57": {
          "model_module": "@jupyter-widgets/controls",
          "model_name": "HTMLModel",
          "model_module_version": "1.5.0",
          "state": {
            "_dom_classes": [],
            "_model_module": "@jupyter-widgets/controls",
            "_model_module_version": "1.5.0",
            "_model_name": "HTMLModel",
            "_view_count": null,
            "_view_module": "@jupyter-widgets/controls",
            "_view_module_version": "1.5.0",
            "_view_name": "HTMLView",
            "description": "",
            "description_tooltip": null,
            "layout": "IPY_MODEL_e2783859ea36417eb44e110676c97848",
            "placeholder": "​",
            "style": "IPY_MODEL_4807a2533d104f78b6ff7ea81355581b",
            "value": "model.safetensors: 100%"
          }
        },
        "ebf403e22ce7482b889f1098db84c433": {
          "model_module": "@jupyter-widgets/controls",
          "model_name": "FloatProgressModel",
          "model_module_version": "1.5.0",
          "state": {
            "_dom_classes": [],
            "_model_module": "@jupyter-widgets/controls",
            "_model_module_version": "1.5.0",
            "_model_name": "FloatProgressModel",
            "_view_count": null,
            "_view_module": "@jupyter-widgets/controls",
            "_view_module_version": "1.5.0",
            "_view_name": "ProgressView",
            "bar_style": "success",
            "description": "",
            "description_tooltip": null,
            "layout": "IPY_MODEL_77f98e90715845abbf88dc1f45ef0813",
            "max": 242043056,
            "min": 0,
            "orientation": "horizontal",
            "style": "IPY_MODEL_17d058210d8141219dac044cfa2f80a0",
            "value": 242043056
          }
        },
        "093f016c29414fba9e58c5968a678244": {
          "model_module": "@jupyter-widgets/controls",
          "model_name": "HTMLModel",
          "model_module_version": "1.5.0",
          "state": {
            "_dom_classes": [],
            "_model_module": "@jupyter-widgets/controls",
            "_model_module_version": "1.5.0",
            "_model_name": "HTMLModel",
            "_view_count": null,
            "_view_module": "@jupyter-widgets/controls",
            "_view_module_version": "1.5.0",
            "_view_name": "HTMLView",
            "description": "",
            "description_tooltip": null,
            "layout": "IPY_MODEL_8724165601194790995d47a6ae827bc7",
            "placeholder": "​",
            "style": "IPY_MODEL_0493deaf28c24e7ea42ab2d6adb585ef",
            "value": " 242M/242M [00:01&lt;00:00, 130MB/s]"
          }
        },
        "c936cb9326f04dab88b0a6834d90ec26": {
          "model_module": "@jupyter-widgets/base",
          "model_name": "LayoutModel",
          "model_module_version": "1.2.0",
          "state": {
            "_model_module": "@jupyter-widgets/base",
            "_model_module_version": "1.2.0",
            "_model_name": "LayoutModel",
            "_view_count": null,
            "_view_module": "@jupyter-widgets/base",
            "_view_module_version": "1.2.0",
            "_view_name": "LayoutView",
            "align_content": null,
            "align_items": null,
            "align_self": null,
            "border": null,
            "bottom": null,
            "display": null,
            "flex": null,
            "flex_flow": null,
            "grid_area": null,
            "grid_auto_columns": null,
            "grid_auto_flow": null,
            "grid_auto_rows": null,
            "grid_column": null,
            "grid_gap": null,
            "grid_row": null,
            "grid_template_areas": null,
            "grid_template_columns": null,
            "grid_template_rows": null,
            "height": null,
            "justify_content": null,
            "justify_items": null,
            "left": null,
            "margin": null,
            "max_height": null,
            "max_width": null,
            "min_height": null,
            "min_width": null,
            "object_fit": null,
            "object_position": null,
            "order": null,
            "overflow": null,
            "overflow_x": null,
            "overflow_y": null,
            "padding": null,
            "right": null,
            "top": null,
            "visibility": null,
            "width": null
          }
        },
        "e2783859ea36417eb44e110676c97848": {
          "model_module": "@jupyter-widgets/base",
          "model_name": "LayoutModel",
          "model_module_version": "1.2.0",
          "state": {
            "_model_module": "@jupyter-widgets/base",
            "_model_module_version": "1.2.0",
            "_model_name": "LayoutModel",
            "_view_count": null,
            "_view_module": "@jupyter-widgets/base",
            "_view_module_version": "1.2.0",
            "_view_name": "LayoutView",
            "align_content": null,
            "align_items": null,
            "align_self": null,
            "border": null,
            "bottom": null,
            "display": null,
            "flex": null,
            "flex_flow": null,
            "grid_area": null,
            "grid_auto_columns": null,
            "grid_auto_flow": null,
            "grid_auto_rows": null,
            "grid_column": null,
            "grid_gap": null,
            "grid_row": null,
            "grid_template_areas": null,
            "grid_template_columns": null,
            "grid_template_rows": null,
            "height": null,
            "justify_content": null,
            "justify_items": null,
            "left": null,
            "margin": null,
            "max_height": null,
            "max_width": null,
            "min_height": null,
            "min_width": null,
            "object_fit": null,
            "object_position": null,
            "order": null,
            "overflow": null,
            "overflow_x": null,
            "overflow_y": null,
            "padding": null,
            "right": null,
            "top": null,
            "visibility": null,
            "width": null
          }
        },
        "4807a2533d104f78b6ff7ea81355581b": {
          "model_module": "@jupyter-widgets/controls",
          "model_name": "DescriptionStyleModel",
          "model_module_version": "1.5.0",
          "state": {
            "_model_module": "@jupyter-widgets/controls",
            "_model_module_version": "1.5.0",
            "_model_name": "DescriptionStyleModel",
            "_view_count": null,
            "_view_module": "@jupyter-widgets/base",
            "_view_module_version": "1.2.0",
            "_view_name": "StyleView",
            "description_width": ""
          }
        },
        "77f98e90715845abbf88dc1f45ef0813": {
          "model_module": "@jupyter-widgets/base",
          "model_name": "LayoutModel",
          "model_module_version": "1.2.0",
          "state": {
            "_model_module": "@jupyter-widgets/base",
            "_model_module_version": "1.2.0",
            "_model_name": "LayoutModel",
            "_view_count": null,
            "_view_module": "@jupyter-widgets/base",
            "_view_module_version": "1.2.0",
            "_view_name": "LayoutView",
            "align_content": null,
            "align_items": null,
            "align_self": null,
            "border": null,
            "bottom": null,
            "display": null,
            "flex": null,
            "flex_flow": null,
            "grid_area": null,
            "grid_auto_columns": null,
            "grid_auto_flow": null,
            "grid_auto_rows": null,
            "grid_column": null,
            "grid_gap": null,
            "grid_row": null,
            "grid_template_areas": null,
            "grid_template_columns": null,
            "grid_template_rows": null,
            "height": null,
            "justify_content": null,
            "justify_items": null,
            "left": null,
            "margin": null,
            "max_height": null,
            "max_width": null,
            "min_height": null,
            "min_width": null,
            "object_fit": null,
            "object_position": null,
            "order": null,
            "overflow": null,
            "overflow_x": null,
            "overflow_y": null,
            "padding": null,
            "right": null,
            "top": null,
            "visibility": null,
            "width": null
          }
        },
        "17d058210d8141219dac044cfa2f80a0": {
          "model_module": "@jupyter-widgets/controls",
          "model_name": "ProgressStyleModel",
          "model_module_version": "1.5.0",
          "state": {
            "_model_module": "@jupyter-widgets/controls",
            "_model_module_version": "1.5.0",
            "_model_name": "ProgressStyleModel",
            "_view_count": null,
            "_view_module": "@jupyter-widgets/base",
            "_view_module_version": "1.2.0",
            "_view_name": "StyleView",
            "bar_color": null,
            "description_width": ""
          }
        },
        "8724165601194790995d47a6ae827bc7": {
          "model_module": "@jupyter-widgets/base",
          "model_name": "LayoutModel",
          "model_module_version": "1.2.0",
          "state": {
            "_model_module": "@jupyter-widgets/base",
            "_model_module_version": "1.2.0",
            "_model_name": "LayoutModel",
            "_view_count": null,
            "_view_module": "@jupyter-widgets/base",
            "_view_module_version": "1.2.0",
            "_view_name": "LayoutView",
            "align_content": null,
            "align_items": null,
            "align_self": null,
            "border": null,
            "bottom": null,
            "display": null,
            "flex": null,
            "flex_flow": null,
            "grid_area": null,
            "grid_auto_columns": null,
            "grid_auto_flow": null,
            "grid_auto_rows": null,
            "grid_column": null,
            "grid_gap": null,
            "grid_row": null,
            "grid_template_areas": null,
            "grid_template_columns": null,
            "grid_template_rows": null,
            "height": null,
            "justify_content": null,
            "justify_items": null,
            "left": null,
            "margin": null,
            "max_height": null,
            "max_width": null,
            "min_height": null,
            "min_width": null,
            "object_fit": null,
            "object_position": null,
            "order": null,
            "overflow": null,
            "overflow_x": null,
            "overflow_y": null,
            "padding": null,
            "right": null,
            "top": null,
            "visibility": null,
            "width": null
          }
        },
        "0493deaf28c24e7ea42ab2d6adb585ef": {
          "model_module": "@jupyter-widgets/controls",
          "model_name": "DescriptionStyleModel",
          "model_module_version": "1.5.0",
          "state": {
            "_model_module": "@jupyter-widgets/controls",
            "_model_module_version": "1.5.0",
            "_model_name": "DescriptionStyleModel",
            "_view_count": null,
            "_view_module": "@jupyter-widgets/base",
            "_view_module_version": "1.2.0",
            "_view_name": "StyleView",
            "description_width": ""
          }
        },
        "b0966acea0f54919a7da3be4afd120a8": {
          "model_module": "@jupyter-widgets/controls",
          "model_name": "HBoxModel",
          "model_module_version": "1.5.0",
          "state": {
            "_dom_classes": [],
            "_model_module": "@jupyter-widgets/controls",
            "_model_module_version": "1.5.0",
            "_model_name": "HBoxModel",
            "_view_count": null,
            "_view_module": "@jupyter-widgets/controls",
            "_view_module_version": "1.5.0",
            "_view_name": "HBoxView",
            "box_style": "",
            "children": [
              "IPY_MODEL_5cd030567b384b65a57307dda94c2a96",
              "IPY_MODEL_34a095155b02497d930a8b1bf6b6cef5",
              "IPY_MODEL_4b1337985cdd46d68deff987e60cc303"
            ],
            "layout": "IPY_MODEL_9a4f279dcd2f4e50a1d20ad0fbb098ca"
          }
        },
        "5cd030567b384b65a57307dda94c2a96": {
          "model_module": "@jupyter-widgets/controls",
          "model_name": "HTMLModel",
          "model_module_version": "1.5.0",
          "state": {
            "_dom_classes": [],
            "_model_module": "@jupyter-widgets/controls",
            "_model_module_version": "1.5.0",
            "_model_name": "HTMLModel",
            "_view_count": null,
            "_view_module": "@jupyter-widgets/controls",
            "_view_module_version": "1.5.0",
            "_view_name": "HTMLView",
            "description": "",
            "description_tooltip": null,
            "layout": "IPY_MODEL_28a52a9a44f64bfab6b4dd05b03278e1",
            "placeholder": "​",
            "style": "IPY_MODEL_fa05c524595f47f9851ac792e725cd11",
            "value": "generation_config.json: 100%"
          }
        },
        "34a095155b02497d930a8b1bf6b6cef5": {
          "model_module": "@jupyter-widgets/controls",
          "model_name": "FloatProgressModel",
          "model_module_version": "1.5.0",
          "state": {
            "_dom_classes": [],
            "_model_module": "@jupyter-widgets/controls",
            "_model_module_version": "1.5.0",
            "_model_name": "FloatProgressModel",
            "_view_count": null,
            "_view_module": "@jupyter-widgets/controls",
            "_view_module_version": "1.5.0",
            "_view_name": "ProgressView",
            "bar_style": "success",
            "description": "",
            "description_tooltip": null,
            "layout": "IPY_MODEL_22a8af128b504b36b88241bff7c0606a",
            "max": 147,
            "min": 0,
            "orientation": "horizontal",
            "style": "IPY_MODEL_e3788a681fb841b494b0b8642d64dee1",
            "value": 147
          }
        },
        "4b1337985cdd46d68deff987e60cc303": {
          "model_module": "@jupyter-widgets/controls",
          "model_name": "HTMLModel",
          "model_module_version": "1.5.0",
          "state": {
            "_dom_classes": [],
            "_model_module": "@jupyter-widgets/controls",
            "_model_module_version": "1.5.0",
            "_model_name": "HTMLModel",
            "_view_count": null,
            "_view_module": "@jupyter-widgets/controls",
            "_view_module_version": "1.5.0",
            "_view_name": "HTMLView",
            "description": "",
            "description_tooltip": null,
            "layout": "IPY_MODEL_5d80186062cc4a9885e00b4bb6329517",
            "placeholder": "​",
            "style": "IPY_MODEL_f862a41ab5a94673a39dab1e78c4f9d8",
            "value": " 147/147 [00:00&lt;00:00, 3.47kB/s]"
          }
        },
        "9a4f279dcd2f4e50a1d20ad0fbb098ca": {
          "model_module": "@jupyter-widgets/base",
          "model_name": "LayoutModel",
          "model_module_version": "1.2.0",
          "state": {
            "_model_module": "@jupyter-widgets/base",
            "_model_module_version": "1.2.0",
            "_model_name": "LayoutModel",
            "_view_count": null,
            "_view_module": "@jupyter-widgets/base",
            "_view_module_version": "1.2.0",
            "_view_name": "LayoutView",
            "align_content": null,
            "align_items": null,
            "align_self": null,
            "border": null,
            "bottom": null,
            "display": null,
            "flex": null,
            "flex_flow": null,
            "grid_area": null,
            "grid_auto_columns": null,
            "grid_auto_flow": null,
            "grid_auto_rows": null,
            "grid_column": null,
            "grid_gap": null,
            "grid_row": null,
            "grid_template_areas": null,
            "grid_template_columns": null,
            "grid_template_rows": null,
            "height": null,
            "justify_content": null,
            "justify_items": null,
            "left": null,
            "margin": null,
            "max_height": null,
            "max_width": null,
            "min_height": null,
            "min_width": null,
            "object_fit": null,
            "object_position": null,
            "order": null,
            "overflow": null,
            "overflow_x": null,
            "overflow_y": null,
            "padding": null,
            "right": null,
            "top": null,
            "visibility": null,
            "width": null
          }
        },
        "28a52a9a44f64bfab6b4dd05b03278e1": {
          "model_module": "@jupyter-widgets/base",
          "model_name": "LayoutModel",
          "model_module_version": "1.2.0",
          "state": {
            "_model_module": "@jupyter-widgets/base",
            "_model_module_version": "1.2.0",
            "_model_name": "LayoutModel",
            "_view_count": null,
            "_view_module": "@jupyter-widgets/base",
            "_view_module_version": "1.2.0",
            "_view_name": "LayoutView",
            "align_content": null,
            "align_items": null,
            "align_self": null,
            "border": null,
            "bottom": null,
            "display": null,
            "flex": null,
            "flex_flow": null,
            "grid_area": null,
            "grid_auto_columns": null,
            "grid_auto_flow": null,
            "grid_auto_rows": null,
            "grid_column": null,
            "grid_gap": null,
            "grid_row": null,
            "grid_template_areas": null,
            "grid_template_columns": null,
            "grid_template_rows": null,
            "height": null,
            "justify_content": null,
            "justify_items": null,
            "left": null,
            "margin": null,
            "max_height": null,
            "max_width": null,
            "min_height": null,
            "min_width": null,
            "object_fit": null,
            "object_position": null,
            "order": null,
            "overflow": null,
            "overflow_x": null,
            "overflow_y": null,
            "padding": null,
            "right": null,
            "top": null,
            "visibility": null,
            "width": null
          }
        },
        "fa05c524595f47f9851ac792e725cd11": {
          "model_module": "@jupyter-widgets/controls",
          "model_name": "DescriptionStyleModel",
          "model_module_version": "1.5.0",
          "state": {
            "_model_module": "@jupyter-widgets/controls",
            "_model_module_version": "1.5.0",
            "_model_name": "DescriptionStyleModel",
            "_view_count": null,
            "_view_module": "@jupyter-widgets/base",
            "_view_module_version": "1.2.0",
            "_view_name": "StyleView",
            "description_width": ""
          }
        },
        "22a8af128b504b36b88241bff7c0606a": {
          "model_module": "@jupyter-widgets/base",
          "model_name": "LayoutModel",
          "model_module_version": "1.2.0",
          "state": {
            "_model_module": "@jupyter-widgets/base",
            "_model_module_version": "1.2.0",
            "_model_name": "LayoutModel",
            "_view_count": null,
            "_view_module": "@jupyter-widgets/base",
            "_view_module_version": "1.2.0",
            "_view_name": "LayoutView",
            "align_content": null,
            "align_items": null,
            "align_self": null,
            "border": null,
            "bottom": null,
            "display": null,
            "flex": null,
            "flex_flow": null,
            "grid_area": null,
            "grid_auto_columns": null,
            "grid_auto_flow": null,
            "grid_auto_rows": null,
            "grid_column": null,
            "grid_gap": null,
            "grid_row": null,
            "grid_template_areas": null,
            "grid_template_columns": null,
            "grid_template_rows": null,
            "height": null,
            "justify_content": null,
            "justify_items": null,
            "left": null,
            "margin": null,
            "max_height": null,
            "max_width": null,
            "min_height": null,
            "min_width": null,
            "object_fit": null,
            "object_position": null,
            "order": null,
            "overflow": null,
            "overflow_x": null,
            "overflow_y": null,
            "padding": null,
            "right": null,
            "top": null,
            "visibility": null,
            "width": null
          }
        },
        "e3788a681fb841b494b0b8642d64dee1": {
          "model_module": "@jupyter-widgets/controls",
          "model_name": "ProgressStyleModel",
          "model_module_version": "1.5.0",
          "state": {
            "_model_module": "@jupyter-widgets/controls",
            "_model_module_version": "1.5.0",
            "_model_name": "ProgressStyleModel",
            "_view_count": null,
            "_view_module": "@jupyter-widgets/base",
            "_view_module_version": "1.2.0",
            "_view_name": "StyleView",
            "bar_color": null,
            "description_width": ""
          }
        },
        "5d80186062cc4a9885e00b4bb6329517": {
          "model_module": "@jupyter-widgets/base",
          "model_name": "LayoutModel",
          "model_module_version": "1.2.0",
          "state": {
            "_model_module": "@jupyter-widgets/base",
            "_model_module_version": "1.2.0",
            "_model_name": "LayoutModel",
            "_view_count": null,
            "_view_module": "@jupyter-widgets/base",
            "_view_module_version": "1.2.0",
            "_view_name": "LayoutView",
            "align_content": null,
            "align_items": null,
            "align_self": null,
            "border": null,
            "bottom": null,
            "display": null,
            "flex": null,
            "flex_flow": null,
            "grid_area": null,
            "grid_auto_columns": null,
            "grid_auto_flow": null,
            "grid_auto_rows": null,
            "grid_column": null,
            "grid_gap": null,
            "grid_row": null,
            "grid_template_areas": null,
            "grid_template_columns": null,
            "grid_template_rows": null,
            "height": null,
            "justify_content": null,
            "justify_items": null,
            "left": null,
            "margin": null,
            "max_height": null,
            "max_width": null,
            "min_height": null,
            "min_width": null,
            "object_fit": null,
            "object_position": null,
            "order": null,
            "overflow": null,
            "overflow_x": null,
            "overflow_y": null,
            "padding": null,
            "right": null,
            "top": null,
            "visibility": null,
            "width": null
          }
        },
        "f862a41ab5a94673a39dab1e78c4f9d8": {
          "model_module": "@jupyter-widgets/controls",
          "model_name": "DescriptionStyleModel",
          "model_module_version": "1.5.0",
          "state": {
            "_model_module": "@jupyter-widgets/controls",
            "_model_module_version": "1.5.0",
            "_model_name": "DescriptionStyleModel",
            "_view_count": null,
            "_view_module": "@jupyter-widgets/base",
            "_view_module_version": "1.2.0",
            "_view_name": "StyleView",
            "description_width": ""
          }
        }
      }
    }
  },
  "cells": [
    {
      "cell_type": "markdown",
      "metadata": {
        "id": "Xf3Qw77SZGbS"
      },
      "source": [
        "# Setup"
      ]
    },
    {
      "cell_type": "code",
      "execution_count": 1,
      "metadata": {
        "colab": {
          "base_uri": "https://localhost:8080/"
        },
        "id": "0NmMdkZO8R6q",
        "outputId": "546c068e-3bc8-4db8-e54e-94bd61bc8864"
      },
      "outputs": [
        {
          "output_type": "stream",
          "name": "stdout",
          "text": [
            "Requirement already satisfied: transformers in /usr/local/lib/python3.10/dist-packages (4.35.2)\n",
            "Requirement already satisfied: filelock in /usr/local/lib/python3.10/dist-packages (from transformers) (3.13.1)\n",
            "Requirement already satisfied: huggingface-hub<1.0,>=0.16.4 in /usr/local/lib/python3.10/dist-packages (from transformers) (0.19.4)\n",
            "Requirement already satisfied: numpy>=1.17 in /usr/local/lib/python3.10/dist-packages (from transformers) (1.23.5)\n",
            "Requirement already satisfied: packaging>=20.0 in /usr/local/lib/python3.10/dist-packages (from transformers) (23.2)\n",
            "Requirement already satisfied: pyyaml>=5.1 in /usr/local/lib/python3.10/dist-packages (from transformers) (6.0.1)\n",
            "Requirement already satisfied: regex!=2019.12.17 in /usr/local/lib/python3.10/dist-packages (from transformers) (2023.6.3)\n",
            "Requirement already satisfied: requests in /usr/local/lib/python3.10/dist-packages (from transformers) (2.31.0)\n",
            "Requirement already satisfied: tokenizers<0.19,>=0.14 in /usr/local/lib/python3.10/dist-packages (from transformers) (0.15.0)\n",
            "Requirement already satisfied: safetensors>=0.3.1 in /usr/local/lib/python3.10/dist-packages (from transformers) (0.4.1)\n",
            "Requirement already satisfied: tqdm>=4.27 in /usr/local/lib/python3.10/dist-packages (from transformers) (4.66.1)\n",
            "Requirement already satisfied: fsspec>=2023.5.0 in /usr/local/lib/python3.10/dist-packages (from huggingface-hub<1.0,>=0.16.4->transformers) (2023.6.0)\n",
            "Requirement already satisfied: typing-extensions>=3.7.4.3 in /usr/local/lib/python3.10/dist-packages (from huggingface-hub<1.0,>=0.16.4->transformers) (4.5.0)\n",
            "Requirement already satisfied: charset-normalizer<4,>=2 in /usr/local/lib/python3.10/dist-packages (from requests->transformers) (3.3.2)\n",
            "Requirement already satisfied: idna<4,>=2.5 in /usr/local/lib/python3.10/dist-packages (from requests->transformers) (3.6)\n",
            "Requirement already satisfied: urllib3<3,>=1.21.1 in /usr/local/lib/python3.10/dist-packages (from requests->transformers) (2.0.7)\n",
            "Requirement already satisfied: certifi>=2017.4.17 in /usr/local/lib/python3.10/dist-packages (from requests->transformers) (2023.11.17)\n"
          ]
        }
      ],
      "source": [
        "!pip install transformers"
      ]
    },
    {
      "cell_type": "code",
      "execution_count": 2,
      "metadata": {
        "colab": {
          "base_uri": "https://localhost:8080/"
        },
        "id": "JCCeyhuDHdOu",
        "outputId": "874192e8-472b-474c-ad43-08df5c15fd85"
      },
      "outputs": [
        {
          "output_type": "stream",
          "name": "stderr",
          "text": [
            "[nltk_data] Downloading package punkt to /root/nltk_data...\n",
            "[nltk_data]   Package punkt is already up-to-date!\n"
          ]
        },
        {
          "output_type": "execute_result",
          "data": {
            "text/plain": [
              "True"
            ]
          },
          "metadata": {},
          "execution_count": 2
        }
      ],
      "source": [
        "import os\n",
        "import time\n",
        "import datetime\n",
        "from google.colab import drive\n",
        "\n",
        "import pandas as pd\n",
        "import seaborn as sns\n",
        "import numpy as np\n",
        "import random\n",
        "\n",
        "import matplotlib.pyplot as plt\n",
        "%matplotlib inline\n",
        "\n",
        "import torch\n",
        "from torch.utils.data import Dataset, DataLoader, random_split, RandomSampler, SequentialSampler\n",
        "torch.manual_seed(42)\n",
        "\n",
        "from transformers import T5ForConditionalGeneration, AutoTokenizer\n",
        "from transformers import AdamW, get_linear_schedule_with_warmup\n",
        "\n",
        "import nltk\n",
        "nltk.download('punkt')"
      ]
    },
    {
      "cell_type": "code",
      "execution_count": 3,
      "metadata": {
        "colab": {
          "base_uri": "https://localhost:8080/"
        },
        "id": "satxtOn9CzgR",
        "outputId": "ba4dbd4b-f76b-4f81-aba8-07c125ab311a"
      },
      "outputs": [
        {
          "output_type": "stream",
          "name": "stdout",
          "text": [
            "Fri Dec 22 23:35:25 2023       \n",
            "+---------------------------------------------------------------------------------------+\n",
            "| NVIDIA-SMI 535.104.05             Driver Version: 535.104.05   CUDA Version: 12.2     |\n",
            "|-----------------------------------------+----------------------+----------------------+\n",
            "| GPU  Name                 Persistence-M | Bus-Id        Disp.A | Volatile Uncorr. ECC |\n",
            "| Fan  Temp   Perf          Pwr:Usage/Cap |         Memory-Usage | GPU-Util  Compute M. |\n",
            "|                                         |                      |               MIG M. |\n",
            "|=========================================+======================+======================|\n",
            "|   0  Tesla T4                       Off | 00000000:00:04.0 Off |                    0 |\n",
            "| N/A   55C    P8              10W /  70W |      0MiB / 15360MiB |      0%      Default |\n",
            "|                                         |                      |                  N/A |\n",
            "+-----------------------------------------+----------------------+----------------------+\n",
            "                                                                                         \n",
            "+---------------------------------------------------------------------------------------+\n",
            "| Processes:                                                                            |\n",
            "|  GPU   GI   CI        PID   Type   Process name                            GPU Memory |\n",
            "|        ID   ID                                                             Usage      |\n",
            "|=======================================================================================|\n",
            "|  No running processes found                                                           |\n",
            "+---------------------------------------------------------------------------------------+\n"
          ]
        }
      ],
      "source": [
        "!nvidia-smi"
      ]
    },
    {
      "cell_type": "markdown",
      "metadata": {
        "id": "ZfdCML6Parvv"
      },
      "source": [
        "# Create Training Set\n"
      ]
    },
    {
      "cell_type": "code",
      "execution_count": 4,
      "metadata": {
        "colab": {
          "base_uri": "https://localhost:8080/"
        },
        "id": "PfD9osiYRGhe",
        "outputId": "5ec7428d-f369-496f-a8fc-27d344d288dd"
      },
      "outputs": [
        {
          "output_type": "stream",
          "name": "stdout",
          "text": [
            "Drive already mounted at /content/drive; to attempt to forcibly remount, call drive.mount(\"/content/drive\", force_remount=True).\n"
          ]
        }
      ],
      "source": [
        "from google.colab import drive\n",
        "drive.mount('/content/drive')"
      ]
    },
    {
      "cell_type": "code",
      "execution_count": 5,
      "metadata": {
        "id": "xGWf8DT1R4sy"
      },
      "outputs": [],
      "source": [
        "import os\n",
        "# os.chdir(\"drive/My Drive/CS505-Project/data\")\n",
        "os.chdir(\"drive/My Drive/other\")"
      ]
    },
    {
      "cell_type": "code",
      "execution_count": 5,
      "metadata": {
        "colab": {
          "base_uri": "https://localhost:8080/"
        },
        "id": "z2MybHRASCCK",
        "outputId": "e8eb5032-72b1-4e48-c77f-f513142e71c6"
      },
      "outputs": [
        {
          "output_type": "stream",
          "name": "stdout",
          "text": [
            "gen_hitler.txt\t       hitler.json\t  joe_biden.json       t5-outputs\n",
            "george_washinton.json  hitler_model_save  john_f_kennedy.json  wash_model_save\n"
          ]
        }
      ],
      "source": [
        "!ls"
      ]
    },
    {
      "cell_type": "code",
      "execution_count": null,
      "metadata": {
        "id": "X7UlDIASSQOq"
      },
      "outputs": [],
      "source": [
        "# def combinejson(json_files, filename):\n",
        "#   # Create an empty list to store the Python objects.\n",
        "#   python_objects = []\n",
        "\n",
        "#   # Load each JSON file into a Python object.\n",
        "#   for json_file in json_files:\n",
        "#       with open(json_file, \"r\") as f:\n",
        "#           python_objects.append(json.load(f))\n",
        "\n",
        "#   # Dump all the Python objects into a single JSON file.\n",
        "#   with open(filename+\".json\", \"w\") as f:\n",
        "#       json.dump(python_objects, f, indent=4)\n"
      ]
    },
    {
      "cell_type": "code",
      "execution_count": null,
      "metadata": {
        "id": "C31cifgLGzqv"
      },
      "outputs": [],
      "source": [
        "# import json\n",
        "# from collections import defaultdict\n",
        "\n",
        "# all_dict =defaultdict(list)\n",
        "\n",
        "# # Create a list of all the JSON files that you want to combine.\n",
        "# # all_dict['Abe'] = ['Abe1.json', 'Abe2.json', 'Abe3.json', 'Abe4.json', 'Abe5.json']\n",
        "# # all_dict['WC'] = ['WC1.json', 'WC2.json', 'WC3.json', 'WC4.json', 'WC5.json']\n",
        "# all_dict['Hillary'] = ['hillaryclinton1.json', 'hillaryclinton3.json', 'hillaryclinton2.json', 'hillaryclinton4.json', 'hillaryclinton5.json']\n",
        "# # all_dict['Obama'] = ['obama1.json', 'obama2.json', 'obama3.json', 'obama4.json', 'obama5.json']\n",
        "# # all_dict['Trump'] = ['trump_1.json', 'trump2.json', 'trump3.json', 'trump4.json', 'trump5.json']\n",
        "\n",
        "# for key in all_dict:\n",
        "#   combinejson(all_dict[key], key)\n"
      ]
    },
    {
      "cell_type": "code",
      "execution_count": null,
      "metadata": {
        "id": "A14MAIZyT_TN"
      },
      "outputs": [],
      "source": [
        "# import json\n",
        "\n",
        "# all_data = defaultdict()\n",
        "\n",
        "# for key in all_dict:\n",
        "\n",
        "#   f = open(key+'.json')\n",
        "\n",
        "#   all_data[key] = json.load(f)\n",
        "\n",
        "#   f.close()"
      ]
    },
    {
      "cell_type": "code",
      "execution_count": null,
      "metadata": {
        "colab": {
          "base_uri": "https://localhost:8080/"
        },
        "id": "SYdojFavVXus",
        "outputId": "63bff699-1140-437c-b30b-7bcecd5ae0ae"
      },
      "outputs": [
        {
          "name": "stdout",
          "output_type": "stream",
          "text": [
            "[{'Person': 'Hillary Clinton', 'Title': \"Hillary Clinton's concession speech\", 'Date': 'November 9, 2016', 'Text': 'Thank you. Thank you all. Thank you. Thank you all very much. Thank you. Thank you. Thank you so much. Very rowdy group. Thank you, my friends. Thank you. Thank you, thank you so very much for being here and I love you all, too. Last night, I congratulated Donald Trump and offered to work with him on behalf of our country. I hope that he will be a successful president for all Americans. This is not the outcome we wanted or we worked so hard for and I’m sorry that we did not win this election for the values we share and the vision we hold for our country. But I feel pride and gratitude for this wonderful campaign that we built together, this vast, diverse, creative, unruly, energized campaign. You represent the best of America and being your candidate has been one of the greatest honors of my life. I know how disappointed you feel because I feel it too, and so do tens of millions of Americans who invested their hopes and dreams in this effort. This is painful and it will be for a long time, but I want you to remember this. Our campaign was never about one person or even one election. It was about the country we love and about building an America that’s hopeful, inclusive and big-hearted. We have seen that our nation is more deeply divided than we thought. But I still believe in America and I always will. And if you do, then we must accept this result and then look to the future. Donald Trump is going to be our president. We owe him an open mind and the chance to lead. Our constitutional democracy enshrines the peaceful transfer of power and we don’t just respect that – we cherish it. It also enshrines other things; the rule of law, the principle that we are all equal in rights and dignity, freedom of worship and expression. We respect and cherish these values too and we must defend them. Now – and let me add, our constitutional democracy demands our participation, not just every four years but all the time. So let’s do all we can to keep advancing the causes and values we all hold dear: making our economy work for everyone not just those at the top, protecting our country and protecting our planet and breaking down all the barriers that hold any American back from achieving their dreams. We’ve spent a year and a half bringing together millions of people from every corner of our country to say with one voice that we believe that the American dream is big enough for everyone – for people of all races and religions, for men and women, for immigrants, for LGBT people, and people with disabilities. For everyone.So now our responsibility as citizens is to keep doing our part to build that better, stronger, fairer America we seek. And I know you will. I am so grateful to stand with all of you. I want to thank Tim Kaine and Anne Holton for being our partners on this journey. It has been a joy getting to know them better, and it gives me great hope and comfort to know that Tim will remain on the frontlines of our democracy representing Virginia in the Senate. To Barack and Michelle Obama, our country owes you an enormous debt of gratitude. We thank you for your graceful, determined leadership that has meant so much to so many Americans and people across the world. And to Bill and Chelsea, Mark, Charlotte, Aidan, our brothers and our entire family, my love for you means more than I can ever express. You crisscrossed this country on our behalf and lifted me up when I needed it most – even four-month-old Aidan, who traveled with his mom. I will always be grateful to the creative, talented, dedicated men and women at our headquarters in Brooklyn and across our country. Hillary Clinton walks off the stage after making her concession speech on Wednesday. You poured your hearts into this campaign. For some of you who are veterans, it was a campaign after you had done other campaigns. Some of you, it was your first campaign. I want each of you to know that you were the best campaign anybody could have ever expected or wanted. And to the millions of volunteers, community leaders, activists and union organizers who knocked on doors, talked to neighbors, posted on Facebook, even in secret, private Facebook sites ... I want everybody coming out from behind that and make sure your voices are heard going forward. To everyone who sent in contributions as small at $5 and kept us going, thank you. Thank you from all of us. And to the young people in particular, I hope you will hear this. I have, as Tim said, spent my entire adult life fighting for what I believe in. I’ve had successes and I’ve had setbacks. Sometimes really painful ones. Many of you are at the beginning of your professional public and political careers. You will have successes and setbacks, too. This loss hurts, but please never stop believing that fighting for what’s right is worth it. It is – it is worth it. And so we need – we need you to keep up these fights now and for the rest of your lives. And to all the women, and especially the young women, who put their faith in this campaign and in me, I want you to know that nothing has made me prouder than to be your champion. Now, I – I know – I know we have still not shattered that highest and hardest glass ceiling, but someday someone will and hopefully sooner than we might think right now. And to all the little girls who are watching this, never doubt that you are valuable and powerful and deserving of every chance and opportunity in the world to pursue and achieve your own dreams. Finally, I am so grateful for our country and for all it has given to me. I count my blessings every single day that I am an American. And I still believe as deeply as I ever have that if we stand together and work together with respect for our differences, strength in our convictions and love for this nation, our best days are still ahead of us. Because, you know – you know, I believe we are stronger together and we will go forward together. And you should never, ever regret fighting for that. You know, scripture tells us: “Let us not grow weary in doing good, for in due season, we shall reap if we do not lose heart.” So my friends, let us have faith in each other, let us not grow weary, let us not lose heart, for there are more seasons to come. And there is more work to do. I am incredibly honored and grateful to have had this chance to represent all of you in this consequential election. May God bless you and may God bless the United States of America'}, {'Person': 'Hillary Clinton', 'Title': 'Hillary Clinton Remarks as Prepared for Delivery – Reno, Nevada', 'Date': 'August 25, 2016', 'Text': ' Thank you, Reno! It’s great to be back in Nevada...     My original plan for this visit was to focus on our agenda to help small businesses and entrepreneurs. This week we proposed new steps to cut red tape and taxes, and make it easier for small businesses to get the credit they need to grow and hire. Because I believe that in America, if you can dream it, you should be able to build it. We’ll be talking a lot more about our economic plans in the days and weeks ahead. But today, I want to address something I hear from Americans all over our country. Everywhere I go, people tell me how concerned they are by the divisive rhetoric coming from my opponent in this election. It’s like nothing we’ve heard before from a nominee for President of the United States. From the start, Donald Trump has built his campaign on prejudice and paranoia. He’s taking hate groups mainstream and helping a radical fringe take over one of America’s two major political parties. His disregard for the values that make our country great is profoundly dangerous. In just the past week, under the guise of “outreach” to African Americans, Trump has stood up in front of largely white audiences and described black communities in insulting and ignorant terms: “Poverty. Rejection. Horrible education. No housing. No homes. No ownership. Crime at levels nobody has seen… Right now, you walk down the street, you get shot.” Those are his words. Donald Trump misses so much. He doesn’t see the success of black leaders in every field… The vibrancy of black-owned businesses…Or the strength of the black church… He doesn’t see the excellence of historically black colleges and universities or the pride of black parents watching their children thrive…And he certainly doesn’t have any solutions to take on the reality of systemic racism and create more equity and opportunity in communities of color. It takes a lot of nerve to ask people he’s ignored and mistreated for decades, “What do you have to lose?” The answer is everything! Trump’s lack of knowledge or experience or solutions would be bad enough. But what he’s doing here is more sinister. Trump is reinforcing harmful stereotypes and offering a dog whistle to his most hateful supporters. It’s a disturbing preview of what kind of President he’d be. This is what I want to make clear today: A man with a long history of racial discrimination, who traffics in dark conspiracy theories drawn from the pages of supermarket tabloids and the far reaches of the internet, should never run our government or command our military.  MOST READ sexual-misconduct-lawsuits-14218.jpg The 543-word editorial that may have just upended the presidential campaign Court filing reveals Rep. Scott Perry’s vast web of contacts in bid to reverse 2020 election Henry Kissinger, diplomat who helped to reshape the world, dies at 100 Speaker Johnson singed by a blast of conservative fury Former N.J. Trump golf club worker says she was sexually harassed, tricked into signing NDA If he doesn’t respect all Americans, how can he serve all Americans? Now, I know some people still want to give Trump the benefit of the doubt. They hope that he will eventually reinvent himself – that there’s a kinder, gentler, more responsible Donald Trump waiting in the wings somewhere. After all, it’s hard to believe anyone – let alone a nominee for President of the United States – could really believe all the things he says. But the hard truth is, there’s no other Donald Trump. This is it. Maya Angelou once said: “When someone shows you who they are, believe them the first time.” Well, throughout his career and this campaign, Donald Trump has shown us exactly who he is. We should believe him. When Trump was getting his start in business, he was sued by the Justice Department for refusing to rent apartments to black and Latino tenants. Their applications would be marked with a “C” – “C” for “colored” – and then rejected. Three years later, the Justice Department took Trump back to court because he hadn’t changed. The pattern continued through the decades. State regulators fined one of Trump’s casinos for repeatedly removing black dealers from the floor. No wonder the turn-over rate for his minority employees was way above average. And let’s not forget Trump first gained political prominence leading the charge for the so-called “Birthers.” He promoted the racist lie that President Obama isn’t really an American citizen – part of a sustained effort to delegitimize America’s first black President. In 2015, Trump launched his own campaign for President with another racist lie. He described Mexican immigrants as rapists and criminals. And he accused the Mexican government of actively sending them across the border. None of that is true. Oh, and by the way, Mexico’s not paying for his wall either. If it ever gets built, you can be sure that American taxpayers will be stuck with the bill. Since then, there’s been a steady stream of bigotry. We all remember when Trump said a distinguished federal judge born in Indiana couldn’t be trusted to do his job because, quote, “He’s a Mexican.” Think about that. The man who today is the standard bearer of the Republican Party said a federal judge was incapable of doing his job solely because of his heritage. Even the Republican Speaker of the House, Paul Ryan, described that as “the textbook definition of a racist comment.” To this day, he’s never apologized to Judge Curiel. But for Trump, that’s just par for the course. This is someone who retweets white supremacists online, like the user who goes by the name “white-genocide-TM.” Trump took this fringe bigot with a few dozen followers and spread his message to 11 million people. His campaign famously posted an anti-Semitic image – a Star of David imposed over a sea of dollar bills – that first appeared on a white supremacist website. The Trump campaign also selected a prominent white nationalist leader as a delegate in California. They only dropped him under pressure. When asked in a nationally televised interview whether he would disavow the support of David Duke, a former leader of the Ku Klux Klan, Trump wouldn’t do it. Only later, again under mounting pressure, did he backtrack. And when Trump was asked about anti-Semitic slurs and death threats coming from his supporters, he refused to condemn them. Through it all, he has continued pushing discredited conspiracy theories with racist undertones. Trump said thousands of American Muslims in New Jersey cheered the 9/11 attacks. They didn’t. He suggested that Ted Cruz’s father was involved in the Kennedy assassination. Perhaps in Trump’s mind, because he was a Cuban immigrant, he must have had something to do with it. Of course there’s absolutely no evidence of that. Just recently, Trump claimed President Obama founded ISIS. And then he repeated that nonsense over and over. His latest paranoid fever dream is about my health. All I can say is, Donald, dream on. This is what happens when you treat the National Enquirer like Gospel. It’s what happens when you listen to the radio host Alex Jones, who claims that 9/11 and the Oklahoma City bombings were inside jobs. He said the victims of the Sandy Hook massacre were child actors and no one was actually killed there. Trump didn’t challenge those lies. He went on Jones’ show and said: “Your reputation is amazing. I will not let you down.” This man wants to be President of the United States. I’ve stood by President Obama’s side as he made the toughest decisions a Commander-in-Chief ever has to make. In times of crisis, our country depends on steady leadership… clear thinking… and calm judgment… because one wrong move can mean the difference between life and death. The last thing we need in the Situation Room is a loose cannon who can’t tell the difference between fact and fiction, and who buys so easily into racially-tinged rumors. Someone detached from reality should never be in charge of making decisions that are as real as they come. It’s another reason why Donald Trump is simply temperamentally unfit to be President of the United States. Now, some people will say that his bluster and bigotry is just over-heated campaign rhetoric – an outrageous person saying outrageous things for attention. But look at the policies Trump has proposed. They would put prejudice into practice. And don’t be distracted by his latest attempts to muddy the waters. He may have some new people putting new words in his mouth… but we know where he stands. He would form a deportation force to round up millions of immigrants and kick them out of the country. He’d abolish the bedrock constitutional principle that says if you’re born in the United States, you’re an American citizen. He says that children born in America to undocumented parents are, quote, “anchor babies” and should be deported. Millions of them. And he’d ban Muslims around the world – 1.5 billion men, women, and children –from entering our country just because of their religion. Think about that for a minute. How would it actually work? People landing in U.S. airports would line up to get their passports stamped, just like they do now. But in Trump’s America, when they step up to the counter, the immigration officer would ask every single person, “What is your religion?” And then what? What if someone says, “I’m a Christian,” but the agent doesn’t believe them. Do they have to prove it? How would they do that? Ever since the Pilgrims landed on Plymouth Rock, America has distinguished itself as a haven for people fleeing religious persecution. Under Donald Trump, America would distinguish itself as the only country in the world to impose a religious test at the border. Come to think of it, there actually may be one place that does that. It’s the so-called Islamic State. The territory ISIS controls. It would be a cruel irony if America followed its lead. Don’t worry, some will say, as President, Trump will be surrounded by smart advisors who will rein in his worst impulses. So when a tweet gets under his skin and he wants to retaliate with a cruise missile, maybe cooler heads will be there to convince him not to. Maybe. But look at who he’s put in charge of his campaign. Trump likes to say he only hires the “best people.” But he’s had to fire so many campaign managers it’s like an episode of the Apprentice. The latest shake-up was designed to – quote – “Let Trump be Trump.” To do that, he hired Stephen Bannon, the head of a right-wing website called Breitbart.com, as campaign CEO. To give you a flavor of his work, here are a few headlines they’ve published: “Birth Control Makes Women Unattractive and Crazy.” “Would You Rather Your Child Had Feminism or Cancer?” “Gabby Giffords: The Gun Control Movement’s Human Shield” “Hoist It High And Proud: The Confederate Flag Proclaims A Glorious Heritage.” That one came shortly after the Charleston massacre, when Democrats and Republicans alike were doing everything they could to heal racial divides. Breitbart tried to enflame them further. Just imagine – Donald Trump reading that and thinking: “this is what I need more of in my campaign.” Bannon has nasty things to say about pretty much everyone. This spring, he railed against Paul Ryan for, quote “rubbing his social-justice Catholicism in my nose every second.” No wonder he’s gone to work for Trump – the only Presidential candidate ever to get into a public feud with the Pope. According to the Southern Poverty Law Center, which tracks hate groups, Breitbart embraces “ideas on the extremist fringe of the conservative right. Racist ideas. Race-baiting ideas. Anti-Muslim and anti-Immigrant ideas –– all key tenets making up an emerging racist ideology known as the ‘Alt-Right.’” Alt-Right is short for “Alternative Right.” The Wall Street Journal describes it as a loosely organized movement, mostly online, that “rejects mainstream conservatism, promotes nationalism and views immigration and multiculturalism as threats to white identity.” The de facto merger between Breitbart and the Trump Campaign represents a landmark achievement for the “Alt-Right.” A fringe element has effectively taken over the Republican Party. This is part of a broader story -- the rising tide of hardline, right-wing nationalism around the world. Just yesterday, one of Britain’s most prominent right-wing leaders, Nigel Farage, who stoked anti-immigrant sentiments to win the referendum on leaving the European Union, campaigned with Donald Trump in Mississippi. Farage has called for a ban on the children of legal immigrants from public schools and health services, has said women are quote “worth less” than men, and supports scrapping laws that prevent employers from discriminating based on race -- that’s who Trump wants by his side. The godfather of this global brand of extreme nationalism is Russian President Vladimir Putin. In fact, Farage has appeared regularly on Russian propaganda programs. Now he’s standing on the same stage as the Republican nominee. Trump himself heaps praise on Putin and embrace pro-Russian policies. He talks casually of abandoning our NATO allies, recognizing Russia’s annexation of Crimea, and of giving the Kremlin a free hand in Eastern Europe more generally. American presidents from Truman to Reagan have rejected the kind of approach Trump is taking on Russia. We should, too. All of this adds up to something we’ve never seen before. Of course there’s always been a paranoid fringe in our politics, steeped in racial resentment. But it’s never had the nominee of a major party stoking it, encouraging it, and giving it a national megaphone. Until now. On David Duke’s radio show the other day, the mood was jubilant. “We appear to have taken over the Republican Party,” one white supremacist said. Duke laughed. There’s still more work to do, he said. No one should have any illusions about what’s really going on here. The names may have changed… Racists now call themselves “racialists.” White supremacists now call themselves “white nationalists.” The paranoid fringe now calls itself “alt-right.” But the hate burns just as bright. And now Trump is trying to rebrand himself as well. Don’t be fooled. There’s an old Mexican proverb that says “Tell me with whom you walk, and I will tell you who you are.” We know who Trump is. A few words on a teleprompter won’t change that. He says he wants to “make America great again,” but his real message remains “Make America hate again.” This isn’t just about one election. It’s about who we are as a nation. It’s about the kind of example we want to set for our children and grandchildren. Next time you watch Donald Trump rant on television, think about all the kids listening across our country. They hear a lot more than we think. Parents and teachers are already worried about what they’re calling the “Trump Effect.” Bullying and harassment are on the rise in our schools, especially targeting students of color, Muslims, and immigrants. At a recent high school basketball game in Indiana, white students held up Trump signs and taunted Latino players on the opposing team with chants of “Build the wall!” and “Speak English.” After a similar incident in Iowa, one frustrated school principal said, “They see it in a presidential campaign and now it’s OK for everyone to say this.” We wouldn’t tolerate that kind of behavior in our own homes. How can we stand for it from a candidate for president? This is a moment of reckoning for every Republican dismayed that the Party of Lincoln has become the Party of Trump. It’s a moment of reckoning for all of us who love our country and believe that America is better than this. Twenty years ago, when Bob Dole accepted the Republican nomination, he pointed to the exits and told any racists in the Party to get out. The week after 9/11, George W. Bush went to a mosque and declared for everyone to hear that Muslims “love America just as much as I do.” In 2008, John McCain told his own supporters they were wrong about the man he was trying to defeat. Senator McCain made sure they knew – Barack Obama is an American citizen and “a decent person.” We need that kind of leadership again. Every day, more Americans are standing up and saying “enough is enough” – including a lot of Republicans. I’m honored to have their support. And I promise you this: with your help, I will be a President for Democrats, Republicans, and Independents. For those who vote for me and those who don’t. For all Americans. Because I believe we are stronger together. It’s a vision for the future rooted in our values and reflected in a rising generation of young people who are the most open, diverse, and connected we’ve ever seen. Just look at our fabulous Olympic team. Like Ibtihaj Muhammad, an African-American Muslim from New Jersey who won the bronze medal in fencing with grace and skill. Would she even have a place in Donald Trump’s America? When I was growing up, Simone Manuel wouldn’t have been allowed to swim in the same public pool as Katie Ledecky. Now they’re winning Olympic medals as teammates. So let’s keep moving forward together. Let’s stand up against prejudice and paranoia. Let’s prove once again, that America is great because is America is good. Thank you, and may God bless the United States.'}, {'Person': 'Hillary Clinton', 'Title': 'Remarks at Bonavero Institute of Human Rights', 'Date': 'October 9, 2018', 'Text': \"Let us imagine, for a moment, that we are gathered together late in the evening on December 9th, 1948. World War II is over, but peace is far from secure. Soviet troops blockade West Berlin. In Czechoslovakia, a coup has toppled the last democracy in Eastern Europe. In South Africa, apartheid is becoming the law of the land. Economies around the world remain in ruins. Forty million displaced persons are trapped in refugee camps. And in Paris, negotiators from 58 disparate and rivalrous nations struggle to agree on a version of peace to replace the horrors of war. Already debate has raged. Through 300 meetings and over 3000 hours. Yet still in question is whether the new United Nations can do what the old League of Nations could not – offer the world a roadmap for peace and prosperity strong enough to withstand the appeals of demagogues and the ravages of poverty and fear. The outcome rested on the persuasive powers, the diplomatic skill, the dogged persistence of one woman. An American woman, in her 60s, with only four years of formal education, but schooled in the real world. Eleanor Roosevelt had seen humanity at its finest, and its cruelest. Dead boys on the fields in France. Soup kitchens and empty store fronts in the Great Depression. Hospital corridors filled with wounded soldiers in Pacific war zones. Refugee camps filled with Holocaust survivors and those displaced by war. 'Dear Lord,' she often prayed, 'help me to remember someone died for me today… help me to remember to ask and answer am I worth dying for'. For nearly two years, she had pushed and prodded a fractured world to rally around Universal Declaration of Human Rights… around the radical idea that all human beings are born free and equal in dignity, that human rights are not granted by governments – they are the birthright of every woman, man, and child. It was an idea so powerful that it could change the course of history. But getting agreement on a single text was fiendishly difficult. The delegates drafted, revised, rewrote, and argued. It was so grueling that at one point, a representative from Panama reminded his colleagues that diplomats had human rights, too. Now, with midnight approaching and December 9th drawing to a close, it was time for a final vote. Eleanor knew she had the support to win, but she worried that any dissent would wreck the fragile consensus she had negotiated. Early in the morning of December 10th, forty-eight nations representing the vast majority of the world's people voted in favor of the Universal Declaration of Human Rights. The Soviets abstained, but not a single country dissented. A silence overtook the chamber. Then all the members of the UN rose as one to honor the moment and applaud the woman who had made it happen. Eleanor believed it was a landmark comparable to the French Declaration of the Rights of Man and the American Bill of Rights – a new Magna Carta for all people. Not perfect, but a 'compass' pointing the world toward freedom and dignity. She also understood that this victory was only the beginning of what she called 'the long trek' to make human rights a human reality. History has proved her right. If Eleanor were here today, I think she would be appalled, but not surprised, to see dictators still oppressing their people, from Moscow to Beijing and beyond. You'd see authoritarians growing in influence… corruption and economic injustice still deeply entrenched, and in too many places, getting worse… you'd see racism and xenophobia still turning us against one another. But I think she would also be proud of what we've accomplished. The Universal Declaration has become the single most widely translated single document in the history of the world. Generations of activists, leaders, and ordinary citizens have carried its principles forward. They have fought and organized and campaigned to tear down barriers that prevented people from enjoying the full measure of freedom, the full experience of dignity, and the full benefits of citizenship. They've built a system of international law and institutions to protect the freedoms spelled out in the Declaration, and to hold violators accountable. They've woven human rights into domestic constitutions and made them a crucial test of any government's legitimacy. In country after country, human rights have come to be seen not as a high-minded luxury but as a core national interest. In many places, racist laws have been repealed, legal and social practices that relegated women to second-class status have been abolished, the ability of religious minorities to practice faith freely has been secured. Command economies have fallen and free markets have risen. Extreme poverty has receded and war has become less frequent. The language and law of human rights have enabled people to reclaim ownership of their own lives. Millions whose lives were once narrowed by injustice or oppression are now able to live more freely and participate more fully in the political, economic, and social lives of their communities. So yes, today the world is safer, richer, freer, and fairer than it was in 1948. Yet 70 years after that historic night in Paris, forces are at work from both the left and right to undo the progress in the name of nationalism, populism, religion, and ideology. Our long trek remains far from finished. I come here today not just to remember Eleanor, but to remind us that we have urgent work ahead. I want to thank Kate O'Regan and the Bonavero Institute for giving me this opportunity. I am grateful to Helena Kennedy, Helen Mountfield, all our distinguished panelists, Mansfield College, and Oxford University. The cause of human rights has been close to my heart for a long time. Looking back now, I can see how lessons from my family and faith about treating others as equals — and expecting as a girl to be respected – along with the activism of the 1960s and the work I did as a young lawyer, put me on this path. I learned that human rights are not just the stuff of philosophy or high diplomacy but must be the substance of everyday life. As Eleanor famously said, they begin in the small places close to home. That's what I saw when I went door-to-door gathering evidence about the barriers preventing children with disabilities from getting an education. I learned it in Alabama when I went undercover to expose continuing racial segregation in schools and in South Carolina, where I investigated the plight of teenagers jailed in adult prisons as though they were hardened felons. I saw it in the faces of abused and neglected children in my work at Yale-New Haven Hospital, which led to my first article on the legal rights of children. But I couldn't have imagined in 1974 the long and winding path that would bring me here today. But I knew that I wanted to devote my life to widening the circle of justice and opportunity. There were still too many of our fellow men and women whose human suffering we failed to see, to hear, and to feel… too many excluded from the fundamental rights proclaimed in the Universal Declaration. That's what led me to provide legal services to poor families in Arkansas and then across America, and to fight for universal health care as First Lady. It led me to Beijing in 1995, to declare that human rights are women's rights and women's rights are human rights. And to Geneva sixteen years later, to say that human rights are also gay rights and gay rights are human rights. It's why, as Secretary of State, I made it a priority of American foreign policy to stand up for survivors of mass rape and human trafficking, for persecuted religious and ethnic minorities, and for imprisoned journalists and dissidents – like the blind, barefoot human rights lawyer who took refuge in our embassy in China. It's why I ran for President of the United States and fought for a hopeful, inclusive, big-hearted America – an America I still believe in, and always will. So that's what brings me here today. We have arrived at a moment of peril like none we've seen since the end of the Cold War. Today, the human rights that Eleanor Roosevelt fought for – and the democracies devoted to their protection – are under siege from within and without and in need of both defense and renewal. To turn back a rising tide of authoritarianism, we must hold fast to the principles of the Universal Declaration and offer a compelling new vision of democracy that delivers a better life for people everywhere – with less inequality and more opportunity, unity, and decency. As Eleanor said, 'to stand still is to retreat.' Now is the time for leaders to stand up, bravely and firmly, for the values we share and the future we need. And for citizens to support and join them. What we need is an authentic, grassroots revival of the democratic spirit and the struggle for justice. We're starting to see it emerge, driven by popular movements around the world – from Black Lives Matter activists demanding racial justice to women courageously declaring 'Me Too' …to tens of thousands protesting attacks on an independent judiciary in Poland…to people demonstrating against corruption and impunity in Guatemala and Nicaragua. It's time for all of us, in whatever way we can, to heed the courage of activists like Malala… [who is here with us today]… She didn't ask to become a global symbol of the struggle for the human rights of girls seeking an education. She wanted to live her life and go to school. But after the Taliban shot her in the head, there was no way she was going to back down. It's time for us to heed the courage of Nadia Murad, who endured slavery and rape at the hands of ISIS but refused to hide her face in shame and instead forced the world to confront the atrocities committed against the Yazidis and the horror of sexual violence as a weapon of war. Last week she won the Nobel Peace Prize, but what she deserves even more is to see her message turned into action everywhere that women's human rights are threatened. Now is the time to bring human rights out of the ivory tower and diplomatic conferences and into those small places close to home…into neighborhoods and schools, offices, factories, and farms…into the hearts and daily interactions of men and women everywhere who will never read the lofty language of the Universal Declaration and yet embody its aspirations and must share in its promise. As Eleanor also said, our ideals 'carry no weight unless the people know them, unless the people understand them, unless the people demand that they be lived.' To succeed, we've got to be clear-eyed about the many challenges we face. Recent history has delivered bitter disappointments. The exuberance of the Arab Spring gave way to civil war in Syria, chaos in Libya, and a return to dictatorship in Egypt. In Myanmar, high hopes for democratic progress have foundered as the military wages a campaign of atrocities against the Rohingya and imprisons journalists – like the Reuters reporters Wa Lone and Kyaw Soe Oo – who have done the business of reporting the truth. There was a time not that long ago when many of us believed that the appeal of democracy, combined with diplomatic engagement and expanding trade, would slowly but inexorably lead closed societies to open up and embrace human rights. But in China, Xi Jinping has consolidated more power than any leader since Mao. And in Russia, where Vladimir Putin has tightened his grip, journalists and dissidents like the Ukrainian filmmaker and political prisoner Oleg Sentsov are jailed, beaten, or murdered with impunity. Even in what we once thought of as sturdy democracies, freedom is under threat – and when freedom is threatened human rights, obviously, are vulnerable. By Freedom House's count, more than 70 nations curtailed civil liberties and political rights in 2017, the twelfth year in a row in which freedom contracted around the world. It's a reminder of how fragile an experiment self-government really is. When viewed against the sweep of human history, how fleeting. There may be no such thing as a 'sturdy' or 'consolidated' democracy. It is always at risk and always in need of defense. We see it in Turkey and the Philippines, where strongmen are conducting ruthless campaigns of repression. We see it here in Europe. Last month, the European Parliament initiated an Article 7 disciplinary process against Hungary's right-wing nationalist government for failing to respect human rights and the rule of law. The independence of the judiciary, civil society, and academia – including Central European University – are all under attack. A similar story is unfolding in Poland. If you haven't read Anne Applebaum's haunting recent essay in the Atlantic Magazine, I hope you will. And as we are all too well aware, the crisis extends to my own country, the world's oldest democracy. I don't use the word crisis lightly. True, there are no tanks in the streets of Washington or New York. But our democratic institutions and traditions are under threat on many fronts. The President is degrading the rule of law, delegitimizing our elections, spreading corruption, undermining our national unity that makes democracy possible, and discrediting truth, facts, and reason. From day one, the Trump administration has shown hostility to civil rights that previous generations fought to secure and defend – from the Muslim travel ban to the barring of transgender Americans from serving in the military to the unspeakable cruelty inflicted on undocumented families arriving at our southern border, including separating children, some as young as eight months, from their parents. As in so many other societies, the United States is facing a toxic backlash to years of social and economic change, playing to our ugliest impulses, not our better angels. Our divisions make us targets for foreign manipulation, which seeks to sow chaos and pit us against each other. And even as we face the resurgence of the old challenges of nationalism, tribalism, and authoritarianism, new threats are already upon us, especially at the intersection of technology and autocracy. Technology and globalization were supposed to bind the world closer together, break down the barriers rulers use to hold their people back, and spur more openness, innovation, and freedom. Now, to a large degree, that did happen. And yet, we've learned the hard way that technology is a double-edged sword, not just carrying democratic values to oppressed people but also giving authoritarians the tools to tighten control and counterattack at the foundations of open societies. The whole world now knows that Putin's Russia is waging cyberwarfare and manipulating social media to influence elections and referenda and to polarize and cripple democracies across the west. It's not just the United States ,but in Germany, France, Spain, Italy, the Baltic countries and beyond, Kremlin-backed hackers and propogandists have sought to inflame divisions and advance an extreme right-wing agenda. Here in the UK, senior lawmakers like Damian Collins, a Tory, and Labour's Tom Watson, have called for a full and independent investigation into Russia's role in the Brexit referendum. Collins, who has led the Parliamentary inquiry, warns of 'a crisis' in British democracy (and I quote) 'based on the systematic manipulation of data to support the relentless targeting of citizens' (unquote). And while Moscow coopts the open internet for its own purposes, Beijing is working tenaciously to end it altogether. Chinese authorities are stepping up their already prodigious censorship and control of the web through what is known as 'The Great Firewall of China,' intimidating, imprisoning, or exiling anyone who dares challenge their restrictions. But Beijing is not content to merely repress its own people, but also bullies foreign tech companies, nations, and international organizations alike to accept its vision of an internet divvied up between all-controlling national governments. At home, Beijing is using artificial intelligence to construct a fearsome new 21st century model of totalitarian repression. In the western Xinjiang Province, Chinese authorities have deployed a vast surveillance system of checkpoints and high-tech cameras that use facialrecognition to track the Uighur population. This feeds into what UN officials have described as a 'massive internment camp shrouded in secrecy' that holds between 100,000 to one million Uighurs. And there are credible reports of mass detention, torture, and brainwashing. This is just the beginning. China is exporting the tools they're testing to other countries, from Malaysia to Zimbabwe. The government also is collecting enormous amounts of data on all its citizens and designing a nation-wide Social Credit Score system to track their daily lives, reward behavior the state approves, and punish those who step out of line. It's like an episode of Black Mirror – in fact, I believe it was an episode of Black Mirror. Think of all this as a beta test… an experiment in constructing a terrifying new high-tech gulag, where Big Brother is everywhere and privacy and dignity are obsolete. Putin, for one, understands the power of what China is pioneering. He has predicted that whoever dominates artificial intelligence will, and I quote 'become the ruler of the world.' When you add it all up – democracies in turmoil, autocrats ascendant, a dystopian future taking shape before our eyes – it sounds daunting. And it is. All of us who care about the legacy of the Universal Declaration of Human Rights should be very worried. But let us view this challenge not as an omen of defeat, but as a call to action. As Eleanor said, 'courage is more exhilarating than fear, and in the long run, it is easier.' Think of what she faced in 1948: A rapidly changing world with powerful new technologies. Authoritarian menaces in Moscow and elsewhere on the rise, trying to undermine democracies. America and Europe deeply divided. Actually… this all sounds pretty familiar, doesn't it? And as my friend Michelle Bachelet, the former two-time president of Chile, said last month in her first speech as UN High Commissioner for Human Rights, 'This is a time of many setbacks for human rights, but, she went on, it is also one of great opportunity.' So there is a way forward. And let me suggest some priorities for the work ahead. Above all, democracies have got to stick together. We need to have each other's backs. For example, when Saudi Arabia tried to punish Canada for speaking out on behalf of human rights, in particular, the women who had campaigned for the right to drive and then were rounded up and imprisoned in the kingdom, the silence from Ottawa's supposed allies was shameful. Every democracy in the world should be standing with the Canadians. Benjamin Franklin told his fellow patriots after they signed the Declaration of Independence that we must all hang together, or most assuredly, we shall all hang separately. This is not the forum to lay out a full coordinated strategy for confronting Russia and China, and other human rights backsliders and abusers, but Putin and Xi and other authoritarians do understand strength -- and that's what we must demonstrate. And on China in particular, let me say: as the West considers the future of this enormously complex and important relationship, as we debate how and when to compete and cooperate, human rights must be front and center. And let's not be fooled by the masquerade that countries like Hungary and Turkey are still real democracies, just illiberal ones. 'Illiberal democracy' is a contradiction in terms. To be a democracy takes more than an election – even a free and fair one. It also requires free expression and a free press, the rule of law and an independent judiciary, vibrant civil society and transparent and responsive institutions that are accountable to all citizens and protect their rights equally. Without these things, illiberal democracy is no democracy at all – it's just authoritarianism by another name. I hope the European Union – and the people of Europe – will resist the backsliding we're seeing in the east. It's disheartening to watch conservatives in Brussels vote to shield Viktor Orban from censure – including British Tories. They've come a long way from the party of Churchill and Thatcher. The slide toward autocracy is at least as grave a threat to the European project as the financial crisis or Brexit. It's also a threat to NATO. The treaty that created the alliance made it very clear: NATO is, quote, 'founded on the principles of democracy, individual liberty and the rule of law,' unquote. If those values fail, so will the alliance. And we also can't be taken in by self-styled realists or the admirers of strongmen who argue that human rights are luxuries that must be sacrificed in pursuit of stability and security. Clamping down on freedom can create the illusion of security. So can building walls and turning away refugees. But over the long term, repression undermines stability and creates new threats. Autocracy is brittle. The illusion of stability fades, but people's yearning for freedom does not. So democracies sticking together is the first thing we must do. Here's a second: Now more than ever, let us be unwavering, unambiguous, and unequivocal in defending the achievements of the human rights movement and championing our values. There have long been critics who dismiss this movement as western imperialism or who would have us practice a form of moral relativism. There are others who claim to cherish human rights, but their concern only extends as far as their own tribe. These are attacks on the concept of universality that lies at the heart of the Declaration. Now, it's obviously true different cultures have different conceptions of liberty and the relationship between the individual and the state. It's also true that people will think differently about those close to them – their kin and country – than they do about people far away who they've never met and who may look, love, and worship very differently than they do. But the drafters of the Declaration understood all this. They came from different cultures and faiths and disagreed about many things. But they recognized a fundamental truth of human nature – one at least as powerful and hard-wired as the fears that pit us against each other and make us crave security and stability. The truth that people everywhere yearn for freedom and dignity, regardless of race or creed. Even if we don't always recognize or honor it in each other, that yearning is there. We have that much in common, at least. That's why they changed the document's name, late in the process, from the International Declaration of Human Rights to the Universal Declaration of Human Rights, a declaration on behalf of every person on the planet. It's also worth noting that in the decades after the Declaration, the human rights movement wasn't spurred primarily by imperialist western powers or overbearing NGOs, it was carried forward by freedom fighters battling colonialism and activists standing up to repression. I wonder what they would think of critics who confidently declare that human rights are incompatible with certain cultures or faiths and that democracy will never take root in some regions of the world. Tell that to the dissidents who've risked their lives from Tiananmen to Tahrir. You don't stand in front of a tank because of a foreign idea imposed on you from afar. You do it because the drive for freedom is so powerful that it's worth dying for. That's what has fueled every movement for human rights, every campaign for democracy, every struggle against oppression all over the world. The freedom to live up to one's own God-given potential. The potential within every person to join freely with others to shape their communities and their societies, the potential to share life's beauties and tragedies, laughter and tears with the people we love – that potential is universal. Another criticism comes from those who say that economic rights have been neglected or sacrificed in pursuit of civil and political rights. I share the concern about the staggering levels of economic inequality in many countries, including the United States. I do not believe that capitalism is fundamentally incompatible with democracy, but unregulated, predatory capitalism is. Massive inequality, corruption, and unrestrained corporate monopoly power are fundamentally anti-democratic. But here, too, we are presented with a false choice. Political and economic rights must go hand-in-hand. As Dr. Martin Luther King once observed: 'What does it profit a man to be able to eat at an integrated lunch counter if he doesn't have enough money to buy a hamburger?' And the reverse is also true. I'll never forget what one Egyptian man said on his way to vote for the first time after the fall of Mubarak. 'Freedom is a blessing… It's more important than food and water…When you eat in humiliation, you can't taste the food.' We must understand – as Eleanor Roosevelt did – that dignity requires both. It was there in FDR's famous Four Freedoms. The freedom from want stood with the freedom of expression and worship, and the freedom from fear. That's why, in addition to political rights, the Declaration proclaims the right to work in a job of your choice, with fair conditions and fair pay – enough to provide a life of dignity for your family – as well as the right to form or join a union. It recognizes the right to education…and to security in old age, or in the event of unemployment or disability. As the 1993 Vienna Declaration put it, human rights are 'indivisible, interdependent and interrelated.' It's self-defeating to pit some rights against others. But it's true that we have much work to do to make the Declaration's economic and social rights a reality in all people's lives. So all of us in the human rights movement should say loudly and clearly: Yes, economic rights are human rights, and human rights are economic rights. A living wage and access to health care, education, housing, and clean air and water – these are not privileges, they're fundamental rights. And we should hold governments accountable for them, just as we do when it comes to protecting political and civil rights. Because if economic rights are human rights, economic policy is human rights policy. And abuse of economic policy – policy that perpetuates injustice and inequality – is a human rights abuse. And that leads to a third priority – which I also consider an urgent imperative: Democracies must deliver on the promise of a better life for their people. The mounting pressures our societies face from migration, automation, corruption, and fragmentation demand what Franklin Roosevelt called 'bold persistent experimentation.' Champions of democracy can't let ourselves be pigeonholed as defenders of a discredited status quo. Instead, we have to offer a compelling future, especially for young people who came of age in the shadow of the global financial crisis. I still believe what I said every day in my presidential campaign: we have to make our economies and our democracies work for everyone, not just those at the top. We need to break the stranglehold on economic and political power held by a small group of powerful interests and billionaire families, reduce inequality, and produce both more economic growth and more economic fairness. And there are bold, creative proposals worth exploring, like putting a price on carbon pollution and using the money to fund clean energy and to send dividends back to working families. That would lower emissions and raise incomes at the same time – not to mention weaken petro-dictators like Putin. Or taxing net worth instead of annual income, which would reduce inequality and provide the resources needed to make major new investments in infrastructure and education. We should explore how to make a universal basic income work in a way that preserves dignity and a sense of purpose. And we need to reform corporate governance and break up monopolies and oligopolies. Now the list goes on. Because making our democracies deliver also requires making government more ethical, transparent, and responsive. In the United States, that means getting dark money out of our politics and doing more to get the voices of marginalized groups into our politics – including by securing voting rights and the actual process of voting: protecting the integrity of our elections. And on both sides of the Atlantic, we have to address the challenge of migration with courage and compassion. In the United States, I continue to advocate for comprehensive immigration reform with a path to citizenship for undocumented immigrants already in the country – and an end to the administration's cruel abuses at the border. Here in Europe, I add my voice to those warning of the risks of giving up on Schengen and the great benefits that freedom of movement have delivered. Look, I know very personally how hard this issue is, how deep the emotions run. I'm not talking about open borders, I'm talking about immigration laws enforced with fairness and respect for human rights. Of course, security and the rule of law must be upheld. Of course, nations have a right and duty to control their borders, in concert with their neighbors. But we can't let fear or bias force us to give up the values that have made our democracies both great and good. Our goal should be to build societies that are secure and welcoming, where everyone counts and everyone contributes – people who are newcomers to our lands and people who have lived in the same place for generations. Now, obviously I realize that the priorities I've outlined here will be more difficult to achieve because the current American administration seems to value the flattery of dictators more than the solidarity of democracies. And Europe's woes compound our challenge. Without the leadership from governments that we've counted on in the past, the role of civil society, academia, the press, and the business community in advancing human rights is more important than ever. There's a simple metaphor that helps explain what it takes to support thriving, free societies. It's like a three-legged stool: One leg is a responsive and accountable democratic government, the second is a fair and growing economy, and the third is a vibrant civil society. If any leg of the stool goes wobbly, that's trouble, and the others have to be twice as strong. Today that means powerful corporations like Google and Facebook are going to have to decide whether to stand on the side of human rights and democracy or give in to the allure of untapped markets and cave to pressure from authoritarians in places like Beijing and Moscow. Given the scale of the repression that is occurring China, I hope that Google will listen to the pleas of its own employees and refuse to be complicit, regardless of how many advertising dollars are at stake. It is better to be on the right side of history. And let's be clear: digital rights are now human rights. The Universal Declaration was decades ahead of its time when it confirmed that all people everywhere have the right 'to seek, receive and impart information and ideas through any media and regardless of frontiers.' That's why, eight years ago, as Secretary of State, I called on the world to recognize and respect every person's right to connect to a free and open internet. Today, there are new fights to join. Data is the now world's most valuable commodity. And I want you to think about it as a commodity. It is the fuel for artificial intelligence and the lifeblood of the global economy. So it is past time to demand that all nations and corporations respect the right of individuals to control their own data. This goes beyond what we normally think of as privacy rights – it's about preserving and promoting individual autonomy in the digital age. There is important work being done right now by technologists like Tim BernersLee, the inventor of the world wide web, and Ro Khanna, the U.S. Congressman representing Silicon Valley. They're trying to develop guidelines for how this could work. Human rights advocates from all over the world should be part of this discussion. None of this will be easy. We have given away our data, we have given away our privacy all too easily and willingly. And now, we've got to take it back. But the fight for human rights never is easy and the risks are real. Denis Mukwege, the Congolese doctor who also received the Nobel Peace Prize last week for treating thousands of survivors of rape, survived himself an assassination attempt. And after recovering, he kept on working. Today, the we are waiting anxiously for news about the fate of Jamal Khashoggi a Saudi journalist who dared to raise his voice in dissent. If reports of his murder, perhaps inside the Saudi Consulate, are true, it is both a grave crime and a reminder of the sacrifices made every day in the name of human rights. So it is imperative we continue to support the men and women on the front lines of this struggle, and not to lose heart while we are doing so. Authoritarians may be riding high right now. But in the long run the desire for freedom, respect, and dignity cannot be denied – even when the opposition seems strongest and the tools at hand weakest. This is why I love the story of the Helsinki Accords. When they were signed in 1975, many in the West dismissed the ambitious human rights provisions as not worth the paper they were printed on. The Soviets would obviously disregard them. All it would do is hand the Kremlin a public relations victory for having signed it. Indeed, Brezhnev believed he had scored such a coup that he ordered the full text of the Helsinki Accords printed in Pravda. But then something unexpected happened. Behind the Iron Curtain, activists and dissidents felt empowered to begin agitating and working for change. The Accords gave them cover for the first time to talk openly about human rights, and it gave them a focal point around which to organize and build networks. Soviet officials were caught in a bind: They couldn't condemn a document the Kremlin had signed, but if they enforced its provisions the entire authoritarian system would break down. But in the years that followed, the shipyard workers of Solidarity in Poland, reformers in Hungary, demonstrators in Czechoslovakia all seized on the fundamental rights ratified at Helsinki. They at least rhetorically held their governments to account for not living up to the standards to which they had agreed. And as Communism crumbled, it became clear the Soviets had made a mistake: They underestimated the people living under the yoke of oppression and the universal yearning for freedom. Again, Eleanor Roosevelt said, 'never belittle the value of words, for they have a way of getting translated into facts.' That is really what this is all about. To continue translating the words of human rights into facts on the ground, into the reality of people's everyday lives… into those small places, close to home…'so close and so small that they cannot be seen on any map of the world.' That's where 'every man, woman and child seeks equal justice, equal opportunity,equal dignity without discrimination… Unless these rights have meaning there, they have little meaning anywhere… Without concerted citizen action to uphold them close to home, we shall look in vain for progress in the larger world.' Remember, in the small places, close to home: That's where rights become real and where they must be defended. Not just by governments, but by all of us. It is in those small places where we will reap the rewards of freedom, dignity, and equality…face-to-face with our neighbors, classmates, and colleagues. With our fellow citizens. So as we face the enormously complex challenges of mass migration, artificial intelligence, cyberwarfare, what we need most is actually quite simple – we have to rediscover our common humanity. Not an abstract warm feeling for the entire species. But the ability to see ourselves in others, not just when it's easy but when it's hard. That is the root of the Golden Rule that I was taught as a girl in Sunday school and that in one form or another appears in every great faith: 'Do unto others as you would have them do unto you.' Because they are you, and you are they. It starts with listening to each other…and hearing each other…beyond the echo chambers and polarized news feeds…putting ourselves, the best we can, in each other's shoes – especially if our views seem miles apart, trying to find common ground on which we can stand. That's how we nurture what Michael Ignatieff calls the ordinary virtues: trust and tolerance, forgiveness, reconciliation, and resilience. If people's eyes glaze over when you talk about human rights, talk about trust and tolerance, and forgiveness, and reconciliation, and resilience. Try to practice radical empathy. It is a time, as it says in the Old Testament Chapter of Isaiah, for all of us to become repairers of the breach. To hold on to the courage of our convictions. To be willing to go forward ourselves and support others who do. Eleanor Roosevelt risked her reputation, her physical safety – we know of at least seventeen assassination threats – her livelihood to champion the Declaration. And on her deathbed, she continued to call out a message to generations to come: 'Staying aloof is not a solution; it is a cowardly evasion.'  We cannot afford to be aloof. We cannot afford to be cowardly. As the drafters of the Universal Declaration stood together 70 years ago, so must we stand together to produce its benefits. So let us continue the long trek that they began… toward a future where democracy flourishes, autocracy fails, and every man, woman, and child has the freedom to pursue their own God-given potential. Thank you all very much.\"}, {'Person': 'Hillary Clinton', 'Title': 'Hillary Clinton’s DNC speech', 'Date': 'August 20, 2020', 'Text': ' Good evening. After the last election, I said, “We owe Donald Trump an open mind and the chance to lead.” I really meant it. Every president deserves that. And Trump walked into the Oval Office with so much set up for him: A strong economy. Plans for managing crises—like a pandemic. Yes, we Democrats would have disagreed with him on many, many things. But if he had put his own interests and ego aside—if he could have seen the humanity in a child ripped from her parents at the border or a protester calling for justice or a family whose home was destroyed by a wildfire who happened to live in a blue state—if he had even tried to govern well and lead us all—he might have proved us wrong. And that would have been a good thing, for America and the world. I wish Donald Trump had been a better president. Because America needs a better president than this. America needs a president who shows the same compassion, determination, and leadership in the White House that we see in our communities. Throughout this crisis, Americans have kept going—checking on neighbors, showing up to jobs at grocery stores and nursing homes. Because it still takes a village. We need leaders equal to this moment. We need Joe Biden and Kamala Harris. Everyone has a story about Joe’s thoughtfulness and empathy. I remember him calling after my mother, Dorothy, died. We talked about being raised by strong, no-nonsense women. When I walked with him through the house where he grew up in Scranton, he remembered every detail—about the house, the neighborhood, the people who lived there, and the values they shared. There is no better testament to Joe’s character than his family—including his wife, Dr. Jill Biden, who has said she will keep her teaching job as First Lady. That’s outstanding. And boy, did Joe, pick the right partner in Kamala Harris—another daughter of an extraordinary mother. Kamala is relentless in the pursuit of justice, and uncommonly kind. When her press secretary Tyrone Gayle, a remarkable young man who had also worked on my campaign, was dying of cancer, she dropped everything to be with him in his final moments. Because that’s who she is. I know a thing or two about the slings and arrows coming her way. Kamala can handle them all. This is the team to pull our nation back from the brink and build back better. But they can’t do it without all of us. For four years, people have said to me, “I didn’t realize how dangerous he was.” “I wish I could go back and do it over.” “I should have voted.” This can’t be another woulda-coulda-shoulda election. If you’re voting by mail, request your ballot now, and send it back as soon as you can. If you vote in person, do it early. Bring a friend and wear a mask. Become a poll worker. Most of all, no matter what, vote. And convince everyone you know to vote. Remember in 2016 when Trump asked: “What do you have to lose?” Well, now we know: our health, our jobs, even our lives. Our leadership in the world and, yes, our post office. As Michelle Obama and Bernie Sanders warned us on Monday: If Trump is re-elected, it will get even worse. My friends, we need unity now more than ever. But let’s set our sights higher than getting one man out of the White House. Let’s vote for the jobs Joe will create, and for emergency relief that lifts small businesses and hardworking people. Because it’s wrong that the wealthiest Americans got $400 billion richer during the pandemic while 40 million people lost their jobs. Vote for parents struggling to balance their child’s education and their safety. And for health care workers fighting COVID-19 with no help from the White House. Vote for paid family leave and health care for everyone. Vote to protect Social Security, Medicare, reproductive rights, and our planet. Vote for DREAMers and their families. For law enforcement that serves and respects communities of color. Vote for justice for George Floyd, Breonna Taylor, and Ahmaud Arbery, because Black Lives Matter. Vote to make sure we—not a foreign adversary—choose our president. Vote for the America we saw in the roll call last night: diverse, compassionate, full of energy and hope. Vote like our lives and livelihoods are on the line, because they are. Remember: Joe and Kamala can win 3 million more votes and still lose. Take. It. From. Me. We need numbers so overwhelming Trump can’t sneak or steal his way to victory. So text VOTE to 30330 and let’s go win. One hundred years ago yesterday, the 19th Amendment was ratified. It took seven decades of suffragists marching, picketing, and going to jail to push us closer to that more perfect union. Fifty-five years ago, John Lewis marched and bled in Selma because that work was unfinished. Tonight I am thinking of the girls and boys who see themselves in America’s future because of Kamala Harris—a Black woman, the daughter of Jamaican and Indian immigrants, and our nominee for Vice President of the United States. This is our country’s story: breaking down barriers and expanding the circle of possibility. So to all the young people: Don’t give up on America. Despite our flaws and problems, we have come so far. And we can still be a more just and equal country, full of opportunities previous generations could never have imagined. There’s a lot of heartbreak in America right now—and the truth is, many things were broken before the pandemic. But, as the saying goes, the world breaks everyone at one point or another, and afterward, many are stronger in the broken places. Joe Biden knows how to heal, because he’s done it himself. So come November, we will be strong together. We will heal together. We will redeem the soul and promise of this country together. We will elect Joe Biden and Kamala Harris—together. '}, {'Person': 'Hillary Clinton', 'Title': \"Hillary Clinton's Prime-Time Speech\", 'Date': 'August 26, 2008', 'Text': \"I am honored to be here tonight. A proud mother. A proud Democrat. A proud American. And a proud supporter of Barack Obama. My friends, it is time to take back the country we love. Whether you voted for me, or voted for Barack, the time is now to unite as a single party with a single purpose. We are on the same team, and none of us can sit on the sidelines. This is a fight for the future. And it's a fight we must win. I haven't spent the past 35 years in the trenches advocating for children, campaigning for universal health care, helping parents balance work and family, and fighting for women's rights at home and around the world . . . to see another Republican in the White House squander the promise of our country and the hopes of our people. And you haven't worked so hard over the last 18 months, or endured the last eight years, to suffer through more failed leadership. No way. No how. No McCain. Barack Obama is my candidate. And he must be our President. Tonight we need to remember what a Presidential election is really about. When the polls have closed, and the ads are finally off the air, it comes down to you — the American people, your lives, and your children's futures. For me, it's been a privilege to meet you in your homes, your workplaces, and your communities. Your stories reminded me everyday that America's greatness is bound up in the lives of the American people — your hard work, your devotion to duty, your love for your children, and your determination to keep going, often in the face of enormous obstacles. You taught me so much, you made me laugh, and . . . you even made me cry. You allowed me to become part of your lives. And you became part of mine. I will always remember the single mom who had adopted two kids with autism, didn't have health insurance and discovered she had cancer. But she greeted me with her bald head painted with my name on it and asked me to fight for health care. I will always remember the young man in a Marine Corps t-shirt who waited months for medical care and said to me: 'Take care of my buddies; a lot of them are still over there....and then will you please help take care of me?' I will always remember the boy who told me his mom worked for the minimum wage and that her employer had cut her hours. He said he just didn't know what his family was going to do. I will always be grateful to everyone from all fifty states, Puerto Rico and the territories, who joined our campaign on behalf of all those people left out and left behind by the Bush Administrtation. To my supporters, my champions — my sisterhood of the traveling pantsuits – from the bottom of my heart: Thank you. You never gave in. You never gave up. And together we made history. Along the way, America lost two great Democratic champions who would have been here with us tonight. One of our finest young leaders, Arkansas Democratic Party Chair, Bill Gwatney, who believed with all his heart that America and the South could be and should be Democratic from top to bottom. And Congresswoman Stephanie Tubbs Jones, a dear friend to many of us, a loving mother and courageous leader who never gave up her quest to make America fairer and smarter, stronger and better. Steadfast in her beliefs, a fighter of uncommon grace, she was an inspiration to me and to us all. Our heart goes out to Stephanie's son, Mervyn, Jr, and Bill's wife, Rebecca, who traveled to Denver to join us at our convention. Bill and Stephanie knew that after eight years of George Bush, people are hurting at home, and our standing has eroded around the world. We have a lot of work ahead. Jobs lost, houses gone, falling wages, rising prices. The Supreme Court in a right-wing headlock and our government in partisan gridlock. The biggest deficit in our nation's history. Money borrowed from the Chinese to buy oil from the Saudis. Putin and Georgia, Iraq and Iran. I ran for President to renew the promise of America. To rebuild the middle class and sustain the American Dream, to provide the opportunity to work hard and have that work rewarded, to save for college, a home and retirement, to afford the gas and groceries and still have a little left over each month. To promote a clean energy economy that will create millions of green collar jobs. To create a health care system that is universal, high quality, and affordable so that parents no longer have to choose between care for themselves or their children or be stuck in dead end jobs simply to keep their insurance. To create a world class education system and make college affordable again. To fight for an America defined by deep and meaningful equality - from civil rights to labor rights, from women's rights to gay rights, from ending discrimination to promoting unionization to providing help for the most important job there is: caring for our families. To help every child live up to his or her God-given potential. To make America once again a nation of immigrants and a nation of laws. To bring fiscal sanity back to Washington and make our government an instrument of the public good, not of private plunder. To restore America's standing in the world, to end the war in Iraq, bring our troops home and honor their service by caring for our veterans. And to join with our allies to confront our shared challenges, from poverty and genocide to terrorism and global warming. Most of all, I ran to stand up for all those who have been invisible to their government for eight long years. Those are the reasons I ran for President. Those are the reasons I support Barack Obama. And those are the reasons you should too. I want you to ask yourselves: Were you in this campaign just for me? Or were you in it for that young Marine and others like him? Were you in it for that mom struggling with cancer while raising her kids? Were you in it for that boy and his mom surviving on the minimum wage? Were you in it for all the people in this country who feel invisible? We need leaders once again who can tap into that special blend of American confidence and optimism that has enabled generations before us to meet our toughest challenges. Leaders who can help us show ourselves and the world that with our ingenuity, creativity, and innovative spirit, there are no limits to what is possible in America. This won't be easy. Progress never is. But it will be impossible if we don't fight to put a Democrat in the White House. We need to elect Barack Obama because we need a President who understands that America can't compete in a global economy by padding the pockets of energy speculators, while ignoring the workers whose jobs have been shipped overseas. We need a President who understands that we can't solve the problems of global warming by giving windfall profits to the oil companies while ignoring opportunities to invest in new technologies that will build a green economy. We need a President who understands that the genius of America has always depended on the strength and vitality of the middle class. Barack Obama began his career fighting for workers displaced by the global economy. He built his campaign on a fundamental belief that change in this country must start from the ground up, not the top down. He knows government must be about 'We the people' not 'We the favored few.' And when Barack Obama is in the White House, he'll revitalize our economy, defend the working people of America, and meet the global challenges of our time. Democrats know how to do this. As I recall, President Clinton and the Democrats did it before. And President Obama and the Democrats will do it again. He'll transform our energy agenda by creating millions of green jobs and building a new, clean energy future. He'll make sure that middle class families get the tax relief they deserve. And I can't wait to watch Barack Obama sign a health care plan into law that covers every single American. Barack Obama will end the war in Iraq responsibly and bring our troops home – a first step to repairing our alliances around the world. And he will have with him a terrific partner in Michelle Obama. Anyone who saw Michelle's speech last night knows she will be a great First Lady for America. Americans are also fortunate that Joe Biden will be at Barack Obama's side. He is a strong leader and a good man. He understands both the economic stresses here at home and the strategic challenges abroad. He is pragmatic, tough, and wise. And, of course, Joe will be supported by his wonderful wife, Jill. They will be a great team for our country. Now, John McCain is my colleague and my friend. He has served our country with honor and courage. But we don't need four more years . . . of the last eight years. More economic stagnation ...and less affordable health care. More high gas prices ...and less alternative energy. More jobs getting shipped overseas ...and fewer jobs created here. More skyrocketing debt ...home foreclosures ...and mounting bills that are crushing our middle class families. More war . . . less diplomacy. More of a government where the privileged come first ...and everyone else comes last. John McCain says the economy is fundamentally sound. John McCain doesn't think that 47 million people without health insurance is a crisis. John McCain wants to privatize Social Security. And in 2008, he still thinks it's okay when women don't earn equal pay for equal work. With an agenda like that, it makes sense that George Bush and John McCain will be together next week in the Twin Cities. Because these days they're awfully hard to tell apart. America is still around after 232 years because we have risen to the challenge of every new time, changing to be faithful to our values of equal opportunity for all and the common good. And I know what that can mean for every man, woman, and child in America. I'm a United States Senator because in 1848 a group of courageous women and a few brave men gathered in Seneca Falls, New York, many traveling for days and nights, to participate in the first convention on women's rights in our history. And so dawned a struggle for the right to vote that would last 72 years, handed down by mother to daughter to granddaughter – and a few sons and grandsons along the way. These women and men looked into their daughters' eyes, imagined a fairer and freer world, and found the strength to fight. To rally and picket. To endure ridicule and harassment. To brave violence and jail. And after so many decades – 88 years ago on this very day – the 19th amendment guaranteeing women the right to vote would be forever enshrined in our Constitution. My mother was born before women could vote. But in this election my daughter got to vote for her mother for President. This is the story of America. Of women and men who defy the odds and never give up. How do we give this country back to them? By following the example of a brave New Yorker , a woman who risked her life to shepherd slaves along the Underground Railroad. And on that path to freedom, Harriett Tubman had one piece of advice. If you hear the dogs, keep going. If you see the torches in the woods, keep going. If they're shouting after you, keep going. Don't ever stop. Keep going. If you want a taste of freedom, keep going. Even in the darkest of moments, ordinary Americans have found the faith to keep going. I've seen it in you. I've seen it in our teachers and firefighters, nurses and police officers, small business owners and union workers, the men and women of our military – you always keep going. We are Americans. We're not big on quitting. But remember, before we can keep going, we have to get going by electing Barack Obama president. We don't have a moment to lose or a vote to spare. Nothing less than the fate of our nation and the future of our children hang in the balance. I want you to think about your children and grandchildren come election day. And think about the choices your parents and grandparents made that had such a big impact on your life and on the life of our nation. We've got to ensure that the choice we make in this election honors the sacrifices of all who came before us, and will fill the lives of our children with possibility and hope. That is our duty, to build that bright future, and to teach our children that in America there is no chasm too deep, no barrier too great – and no ceiling too high – for all who work hard, never back down, always keep going, have faith in God, in our country, and in each other. Thank you so much. God bless America and Godspeed to you all.\"}]\n"
          ]
        }
      ],
      "source": [
        "# print(all_data['Hillary'])"
      ]
    },
    {
      "cell_type": "markdown",
      "metadata": {
        "id": "hEfzSvTuQ3uO"
      },
      "source": [
        "# Other data files code"
      ]
    },
    {
      "cell_type": "code",
      "execution_count": 6,
      "metadata": {
        "id": "LKD_0kz5Q7cq"
      },
      "outputs": [],
      "source": [
        "import json\n",
        "json_file = 'george_washinton.json'\n",
        "with open(json_file, \"r\") as f:\n",
        "    all_data = json.load(f)"
      ]
    },
    {
      "cell_type": "code",
      "execution_count": 7,
      "metadata": {
        "id": "xSJt4I3wpiDX"
      },
      "outputs": [],
      "source": [
        "abe_l=[]\n",
        "\n",
        "for i in all_data['Items']:\n",
        "  abe_l.append(i['transcript'])"
      ]
    },
    {
      "cell_type": "code",
      "execution_count": 8,
      "metadata": {
        "colab": {
          "base_uri": "https://localhost:8080/"
        },
        "id": "tJEzXoqjrCwj",
        "outputId": "3746607f-aa20-4ea2-8167-2c9fa0e8cdfa"
      },
      "outputs": [
        {
          "output_type": "execute_result",
          "data": {
            "text/plain": [
              "21"
            ]
          },
          "metadata": {},
          "execution_count": 8
        }
      ],
      "source": [
        "len(abe_l)"
      ]
    },
    {
      "cell_type": "code",
      "execution_count": 9,
      "metadata": {
        "id": "_U3m6wr3Ahzt"
      },
      "outputs": [],
      "source": [
        "ds=[]\n",
        "for i in abe_l[:5]:\n",
        "  ds.append(i.split(\".\"))\n",
        "\n",
        "docs = []\n",
        "for i in ds:\n",
        "  for j in i:\n",
        "    docs.append(j)"
      ]
    },
    {
      "cell_type": "markdown",
      "metadata": {
        "id": "hQ1oK0kXaV5p"
      },
      "source": [
        "We need to get an idea of how long our training documents are.\n",
        "\n",
        "I'm not going to use the same tokenizer as the GPT2 one, which is a [byte pair encoding tokenizer](https://blog.floydhub.com/tokenization-nlp/). Instead, I'm using a simple one just to get a rough understanding."
      ]
    },
    {
      "cell_type": "code",
      "execution_count": 10,
      "metadata": {
        "colab": {
          "base_uri": "https://localhost:8080/",
          "height": 638
        },
        "id": "cKsH2sU0OCQA",
        "outputId": "bd4f947c-700f-4dd5-9050-26f27fbd8099"
      },
      "outputs": [
        {
          "output_type": "stream",
          "name": "stderr",
          "text": [
            "<ipython-input-10-0dc1d487ac7d>:12: UserWarning: \n",
            "\n",
            "`distplot` is a deprecated function and will be removed in seaborn v0.14.0.\n",
            "\n",
            "Please adapt your code to use either `displot` (a figure-level function with\n",
            "similar flexibility) or `histplot` (an axes-level function for histograms).\n",
            "\n",
            "For a guide to updating your code to use the new functions, please see\n",
            "https://gist.github.com/mwaskom/de44147ed2974457ad6372750bbe5751\n",
            "\n",
            "  sns.distplot(doc_lengths)\n"
          ]
        },
        {
          "output_type": "execute_result",
          "data": {
            "text/plain": [
              "<Axes: ylabel='Density'>"
            ]
          },
          "metadata": {},
          "execution_count": 10
        },
        {
          "output_type": "display_data",
          "data": {
            "text/plain": [
              "<Figure size 640x480 with 1 Axes>"
            ],
            "image/png": "[encoded data removed]"
          },
          "metadata": {}
        }
      ],
      "source": [
        "doc_lengths = []\n",
        "\n",
        "for doc in docs:\n",
        "\n",
        "    # get rough token count distribution\n",
        "    tokens = nltk.word_tokenize(doc)\n",
        "\n",
        "    doc_lengths.append(len(tokens))\n",
        "\n",
        "doc_lengths = np.array(doc_lengths)\n",
        "\n",
        "sns.distplot(doc_lengths)"
      ]
    },
    {
      "cell_type": "code",
      "execution_count": 11,
      "metadata": {
        "colab": {
          "base_uri": "https://localhost:8080/"
        },
        "id": "u6P6bTItJEIj",
        "outputId": "2cc57f66-1ed8-445a-d022-63fe5c02ab4a"
      },
      "outputs": [
        {
          "output_type": "execute_result",
          "data": {
            "text/plain": [
              "0.009345794392523364"
            ]
          },
          "metadata": {},
          "execution_count": 11
        }
      ],
      "source": [
        "# the max token length\n",
        "len(doc_lengths[doc_lengths > 768])/len(doc_lengths)"
      ]
    },
    {
      "cell_type": "code",
      "execution_count": 12,
      "metadata": {
        "colab": {
          "base_uri": "https://localhost:8080/"
        },
        "id": "63t_69HjlwAj",
        "outputId": "0cef80be-2bdf-497f-cd3b-67dd9ae129af"
      },
      "outputs": [
        {
          "output_type": "execute_result",
          "data": {
            "text/plain": [
              "47.77570093457944"
            ]
          },
          "metadata": {},
          "execution_count": 12
        }
      ],
      "source": [
        "np.average(doc_lengths)"
      ]
    },
    {
      "cell_type": "markdown",
      "metadata": {
        "id": "Tuq5bqdr4_a6"
      },
      "source": [
        "Even though these token counts won't match up to the BPE tokenizer's, I'm confident that most lines will be fit under the 768 embedding size limit for the small GPT2 model."
      ]
    },
    {
      "cell_type": "markdown",
      "metadata": {
        "id": "cMml12FJGjPW"
      },
      "source": [
        "# T5 Tokenizer"
      ]
    },
    {
      "cell_type": "markdown",
      "metadata": {
        "id": "ANJhbBwdxN-b"
      },
      "source": [
        "Although the defaults take care of this,I thought I'd show that you can specify some of the special tokens."
      ]
    },
    {
      "cell_type": "code",
      "execution_count": 6,
      "metadata": {
        "id": "Z474sSC6oe7A"
      },
      "outputs": [],
      "source": [
        "# Load the T5 tokenizer.\n",
        "tokenizer = AutoTokenizer.from_pretrained(\"t5-small\", bos_token='<|startoftext|>', eos_token='<|endoftext|>', pad_token='<|pad|>')\n"
      ]
    },
    {
      "cell_type": "code",
      "execution_count": 14,
      "metadata": {
        "colab": {
          "base_uri": "https://localhost:8080/"
        },
        "id": "sh0XKuDvnryn",
        "outputId": "7540bafb-18b9-4358-aa0c-50ac63b824fa"
      },
      "outputs": [
        {
          "output_type": "stream",
          "name": "stdout",
          "text": [
            "The max model length is 512 for this model, although the actual embedding size for GPT small is 768\n",
            "The beginning of sequence token <|startoftext|> token has the id 32100\n",
            "The end of sequence token <|endoftext|> has the id 32101\n",
            "The padding token <|pad|> has the id 32102\n"
          ]
        }
      ],
      "source": [
        "print(\"The max model length is {} for this model, although the actual embedding size for GPT small is 768\".format(tokenizer.model_max_length))\n",
        "print(\"The beginning of sequence token {} token has the id {}\".format(tokenizer.convert_ids_to_tokens(tokenizer.bos_token_id), tokenizer.bos_token_id))\n",
        "print(\"The end of sequence token {} has the id {}\".format(tokenizer.convert_ids_to_tokens(tokenizer.eos_token_id), tokenizer.eos_token_id))\n",
        "print(\"The padding token {} has the id {}\".format(tokenizer.convert_ids_to_tokens(tokenizer.pad_token_id), tokenizer.pad_token_id))"
      ]
    },
    {
      "cell_type": "markdown",
      "metadata": {
        "id": "ex5O1eV-Pfct"
      },
      "source": [
        "# PyTorch Datasets & Dataloaders\n"
      ]
    },
    {
      "cell_type": "markdown",
      "metadata": {
        "id": "3lgZoOYkxZfx"
      },
      "source": [
        "GPT2 is a large model. Increasing the batch size above 2 has lead to out of memory problems. This can be mitigated by accumulating the gradients but that is out of scope here."
      ]
    },
    {
      "cell_type": "code",
      "execution_count": 15,
      "metadata": {
        "id": "scqrzmqhV__z"
      },
      "outputs": [],
      "source": [
        "batch_size = 2"
      ]
    },
    {
      "cell_type": "markdown",
      "metadata": {
        "id": "lqGMee7Isfpx"
      },
      "source": [
        "I'm using the standard PyTorch approach of loading data in using a [dataset class](https://pytorch.org/tutorials/beginner/data_loading_tutorial.html).\n",
        "\n",
        "I'm passing in the tokenizer as an argument but normally I would  instantiate it within the class."
      ]
    },
    {
      "cell_type": "code",
      "execution_count": 16,
      "metadata": {
        "id": "U_XJVIetKN-h"
      },
      "outputs": [],
      "source": [
        "class T5Dataset(Dataset):\n",
        "\n",
        "  def __init__(self, txt_list, tokenizer, max_length=768):\n",
        "\n",
        "    self.tokenizer = tokenizer\n",
        "    self.input_ids = []\n",
        "    self.attn_masks = []\n",
        "\n",
        "    for txt in txt_list:\n",
        "\n",
        "      encodings_dict = tokenizer('<|startoftext|>'+ txt + '<|endoftext|>', truncation=True, max_length=max_length, padding=\"max_length\")\n",
        "\n",
        "      self.input_ids.append(torch.tensor(encodings_dict['input_ids']))\n",
        "      self.attn_masks.append(torch.tensor(encodings_dict['attention_mask']))\n",
        "\n",
        "  def __len__(self):\n",
        "    return len(self.input_ids)\n",
        "\n",
        "  def __getitem__(self, idx):\n",
        "    return self.input_ids[idx], self.attn_masks[idx]"
      ]
    },
    {
      "cell_type": "markdown",
      "metadata": {
        "id": "89Z7aYUgpWrd"
      },
      "source": [
        "To understand how I've used the tokenizer, it's worth reading [the docs](https://huggingface.co/transformers/main_classes/tokenizer.html). I've wrapped each line in the bos and eos tokens.\n",
        "\n",
        "Every tensor passed to the model should be the same length.\n",
        "\n",
        "If the line is shorter than 768 tokens, it will be padded to a length of 768 using the padding token. In addition, an attention mask will be returned that needs to be passed to the model to tell it to ignore the padding tokens.\n",
        "\n",
        "If the line is longer than 768 tokens, it will be truncated without the eos_token. This isn't a problem."
      ]
    },
    {
      "cell_type": "code",
      "execution_count": 17,
      "metadata": {
        "colab": {
          "base_uri": "https://localhost:8080/"
        },
        "id": "Xza_O1_rD7yh",
        "outputId": "36199ab5-4092-43d9-94f9-c05d201e79f8"
      },
      "outputs": [
        {
          "output_type": "stream",
          "name": "stdout",
          "text": [
            "   96 training samples\n",
            "   11 validation samples\n"
          ]
        }
      ],
      "source": [
        "dataset = T5Dataset(docs, tokenizer, max_length=768)\n",
        "\n",
        "# Split into training and validation sets\n",
        "train_size = int(0.9 * len(dataset))\n",
        "val_size = len(dataset) - train_size\n",
        "\n",
        "train_dataset, val_dataset = random_split(dataset, [train_size, val_size])\n",
        "\n",
        "print('{:>5,} training samples'.format(train_size))\n",
        "print('{:>5,} validation samples'.format(val_size))"
      ]
    },
    {
      "cell_type": "code",
      "execution_count": 18,
      "metadata": {
        "id": "x0WeP5PREUuy"
      },
      "outputs": [],
      "source": [
        "# Create the DataLoaders for our training and validation datasets.\n",
        "# We'll take training samples in random order.\n",
        "train_dataloader = DataLoader(\n",
        "            train_dataset,  # The training samples.\n",
        "            sampler = RandomSampler(train_dataset), # Select batches randomly\n",
        "            batch_size = batch_size # Trains with this batch size.\n",
        "        )\n",
        "\n",
        "# For validation the order doesn't matter, so we'll just read them sequentially.\n",
        "validation_dataloader = DataLoader(\n",
        "            val_dataset, # The validation samples.\n",
        "            sampler = SequentialSampler(val_dataset), # Pull out batches sequentially.\n",
        "            batch_size = batch_size # Evaluate with this batch size.\n",
        "        )"
      ]
    },
    {
      "cell_type": "markdown",
      "metadata": {
        "id": "D6TKgyUzPIQc"
      },
      "source": [
        "# Finetune GPT2 Language Model"
      ]
    },
    {
      "cell_type": "code",
      "execution_count": 19,
      "metadata": {
        "id": "gFsCTp_mporB",
        "colab": {
          "base_uri": "https://localhost:8080/",
          "height": 113,
          "referenced_widgets": [
            "29bf63f9a6de42c9930c1a0df7db6000",
            "da3c54ecdb6c43b4afc9ddecb0332120",
            "3c9b0aa18f0c4acdbdcc18de75be4a56",
            "fce16938e4e94ca6a65b59cf6db87eb4",
            "298fd9760197429880e9efcacae7ccf3",
            "527525ecfa6f49acbb5dd70684893853",
            "514abb7b86404499b42e6c7b0fccc2ea",
            "c45134070b2e4bb8a6fad362c63f4be2",
            "fd97d98d5f964e0eb4c0dc58143f54b1",
            "9976b1cfcf64448bb726e4ef3101fa88",
            "8c335f6df7474258b963cde934844ed2",
            "433ddc034a744910b28ca85f49c1a445",
            "1a226132e076453b8bb27c631b911e57",
            "ebf403e22ce7482b889f1098db84c433",
            "093f016c29414fba9e58c5968a678244",
            "c936cb9326f04dab88b0a6834d90ec26",
            "e2783859ea36417eb44e110676c97848",
            "4807a2533d104f78b6ff7ea81355581b",
            "77f98e90715845abbf88dc1f45ef0813",
            "17d058210d8141219dac044cfa2f80a0",
            "8724165601194790995d47a6ae827bc7",
            "0493deaf28c24e7ea42ab2d6adb585ef",
            "b0966acea0f54919a7da3be4afd120a8",
            "5cd030567b384b65a57307dda94c2a96",
            "34a095155b02497d930a8b1bf6b6cef5",
            "4b1337985cdd46d68deff987e60cc303",
            "9a4f279dcd2f4e50a1d20ad0fbb098ca",
            "28a52a9a44f64bfab6b4dd05b03278e1",
            "fa05c524595f47f9851ac792e725cd11",
            "22a8af128b504b36b88241bff7c0606a",
            "e3788a681fb841b494b0b8642d64dee1",
            "5d80186062cc4a9885e00b4bb6329517",
            "f862a41ab5a94673a39dab1e78c4f9d8"
          ]
        },
        "outputId": "506d1a5c-106c-4fb0-b10a-bf4c558a0300"
      },
      "outputs": [
        {
          "output_type": "display_data",
          "data": {
            "text/plain": [
              "config.json:   0%|          | 0.00/1.21k [00:00<?, ?B/s]"
            ],
            "application/vnd.jupyter.widget-view+json": {
              "version_major": 2,
              "version_minor": 0,
              "model_id": "29bf63f9a6de42c9930c1a0df7db6000"
            }
          },
          "metadata": {}
        },
        {
          "output_type": "display_data",
          "data": {
            "text/plain": [
              "model.safetensors:   0%|          | 0.00/242M [00:00<?, ?B/s]"
            ],
            "application/vnd.jupyter.widget-view+json": {
              "version_major": 2,
              "version_minor": 0,
              "model_id": "433ddc034a744910b28ca85f49c1a445"
            }
          },
          "metadata": {}
        },
        {
          "output_type": "display_data",
          "data": {
            "text/plain": [
              "generation_config.json:   0%|          | 0.00/147 [00:00<?, ?B/s]"
            ],
            "application/vnd.jupyter.widget-view+json": {
              "version_major": 2,
              "version_minor": 0,
              "model_id": "b0966acea0f54919a7da3be4afd120a8"
            }
          },
          "metadata": {}
        }
      ],
      "source": [
        "# I'm not really doing anything with the config buheret\n",
        "# configuration = GPT2Config.from_pretrained('t5-small', output_hidden_states=False)\n",
        "\n",
        "# instantiate the model\n",
        "model = T5ForConditionalGeneration.from_pretrained(\"t5-small\")\n",
        "\n",
        "# this step is necessary because I've added some tokens (bos_token, etc) to the embeddings\n",
        "# otherwise the tokenizer and model tensors won't match up\n",
        "model.resize_token_embeddings(len(tokenizer))\n",
        "\n",
        "# Tell pytorch to run this model on the GPU.\n",
        "device = torch.device(\"cuda\")\n",
        "model.cuda()\n",
        "\n",
        "# Set the seed value all over the place to make this reproducible.\n",
        "seed_val = 42\n",
        "\n",
        "random.seed(seed_val)\n",
        "np.random.seed(seed_val)\n",
        "torch.manual_seed(seed_val)\n",
        "torch.cuda.manual_seed_all(seed_val)"
      ]
    },
    {
      "cell_type": "code",
      "execution_count": 20,
      "metadata": {
        "id": "pBEVY2PYSTXJ"
      },
      "outputs": [],
      "source": [
        "# some parameters I cooked up that work reasonably well\n",
        "\n",
        "epochs = 5\n",
        "learning_rate = 5e-4\n",
        "warmup_steps = 1e2\n",
        "epsilon = 1e-8\n",
        "\n",
        "# this produces sample output every 100 steps\n",
        "sample_every = 100"
      ]
    },
    {
      "cell_type": "code",
      "execution_count": 21,
      "metadata": {
        "colab": {
          "base_uri": "https://localhost:8080/"
        },
        "id": "GLs72DuMODJO",
        "outputId": "484d5ca0-a5ca-40f9-f6f2-2b9526ed4f98"
      },
      "outputs": [
        {
          "output_type": "stream",
          "name": "stderr",
          "text": [
            "/usr/local/lib/python3.10/dist-packages/transformers/optimization.py:411: FutureWarning: This implementation of AdamW is deprecated and will be removed in a future version. Use the PyTorch implementation torch.optim.AdamW instead, or set `no_deprecation_warning=True` to disable this warning\n",
            "  warnings.warn(\n"
          ]
        }
      ],
      "source": [
        "# Note: AdamW is a class from the huggingface library (as opposed to pytorch)\n",
        "optimizer = AdamW(model.parameters(),\n",
        "                  lr = learning_rate,\n",
        "                  eps = epsilon\n",
        "                )"
      ]
    },
    {
      "cell_type": "code",
      "execution_count": 22,
      "metadata": {
        "id": "-p0upAhhRiIx"
      },
      "outputs": [],
      "source": [
        "# Total number of training steps is [number of batches] x [number of epochs].\n",
        "# (Note that this is not the same as the number of training samples).\n",
        "total_steps = len(train_dataloader) * epochs\n",
        "\n",
        "# Create the learning rate scheduler.\n",
        "# This changes the learning rate as the training loop progresses\n",
        "scheduler = get_linear_schedule_with_warmup(optimizer,\n",
        "                                            num_warmup_steps = warmup_steps,\n",
        "                                            num_training_steps = total_steps)"
      ]
    },
    {
      "cell_type": "code",
      "execution_count": 23,
      "metadata": {
        "id": "gpt6tR83keZD"
      },
      "outputs": [],
      "source": [
        "def format_time(elapsed):\n",
        "    return str(datetime.timedelta(seconds=int(round((elapsed)))))"
      ]
    },
    {
      "cell_type": "code",
      "execution_count": 25,
      "metadata": {
        "colab": {
          "base_uri": "https://localhost:8080/"
        },
        "id": "vCPohrZ-CTWu",
        "outputId": "87928768-8418-4530-a6c6-d7a4d08ea349"
      },
      "outputs": [
        {
          "output_type": "stream",
          "name": "stdout",
          "text": [
            "\n",
            "======== Epoch 1 / 5 ========\n",
            "Training...\n",
            "\n",
            "  Average training loss: 24.85\n",
            "  Training epoch took: 0:00:16\n",
            "\n",
            "Running Validation...\n",
            "  Validation Loss: 13.88\n",
            "  Validation took: 0:00:01\n",
            "\n",
            "======== Epoch 2 / 5 ========\n",
            "Training...\n",
            "\n",
            "  Average training loss: 7.41\n",
            "  Training epoch took: 0:00:15\n",
            "\n",
            "Running Validation...\n",
            "  Validation Loss: 3.73\n",
            "  Validation took: 0:00:01\n",
            "\n",
            "======== Epoch 3 / 5 ========\n",
            "Training...\n",
            "\n",
            "  Average training loss: 2.85\n",
            "  Training epoch took: 0:00:14\n",
            "\n",
            "Running Validation...\n",
            "  Validation Loss: 1.79\n",
            "  Validation took: 0:00:01\n",
            "\n",
            "======== Epoch 4 / 5 ========\n",
            "Training...\n",
            "\n",
            "  Average training loss: 1.76\n",
            "  Training epoch took: 0:00:14\n",
            "\n",
            "Running Validation...\n",
            "  Validation Loss: 1.31\n",
            "  Validation took: 0:00:01\n",
            "\n",
            "======== Epoch 5 / 5 ========\n",
            "Training...\n",
            "\n",
            "  Average training loss: 1.47\n",
            "  Training epoch took: 0:00:15\n",
            "\n",
            "Running Validation...\n",
            "  Validation Loss: 1.19\n",
            "  Validation took: 0:00:01\n",
            "\n",
            "Training complete!\n",
            "Total training took 0:01:16 (h:mm:ss)\n"
          ]
        }
      ],
      "source": [
        "total_t0 = time.time()\n",
        "\n",
        "training_stats = []\n",
        "\n",
        "model = model.to(device)\n",
        "\n",
        "for epoch_i in range(0, epochs):\n",
        "\n",
        "    # ========================================\n",
        "    #               Training\n",
        "    # ========================================\n",
        "\n",
        "    print(\"\")\n",
        "    print('======== Epoch {:} / {:} ========'.format(epoch_i + 1, epochs))\n",
        "    print('Training...')\n",
        "\n",
        "    t0 = time.time()\n",
        "\n",
        "    total_train_loss = 0\n",
        "\n",
        "    model.train()\n",
        "\n",
        "    for step, batch in enumerate(train_dataloader):\n",
        "\n",
        "        b_input_ids = batch[0].to(device)\n",
        "        b_labels = batch[0].to(device)\n",
        "        b_masks = batch[1].to(device)\n",
        "\n",
        "        model.zero_grad()\n",
        "\n",
        "        outputs = model(  b_input_ids,\n",
        "                          labels=b_labels,\n",
        "                          attention_mask = b_masks\n",
        "                        )\n",
        "\n",
        "        loss = outputs[0]\n",
        "\n",
        "        batch_loss = loss.item()\n",
        "        total_train_loss += batch_loss\n",
        "\n",
        "        # Get sample every x batches.\n",
        "        if step % sample_every == 0 and not step == 0:\n",
        "\n",
        "            elapsed = format_time(time.time() - t0)\n",
        "            print('  Batch {:>5,}  of  {:>5,}. Loss: {:>5,}.   Elapsed: {:}.'.format(step, len(train_dataloader), batch_loss, elapsed))\n",
        "\n",
        "            model.eval()\n",
        "\n",
        "            sample_outputs = model.generate(\n",
        "                                    bos_token_id=random.randint(1,30000),\n",
        "                                    do_sample=True,\n",
        "                                    top_k=50,\n",
        "                                    max_length = 200,\n",
        "                                    top_p=0.95,\n",
        "                                    num_return_sequences=1\n",
        "                                )\n",
        "            # for i, sample_output in enumerate(sample_outputs):\n",
        "                  # print(\"{}: {}\".format(i, tokenizer.decode(sample_output, skip_special_tokens=True)))\n",
        "\n",
        "            model.train()\n",
        "\n",
        "        loss.backward()\n",
        "\n",
        "        optimizer.step()\n",
        "\n",
        "        scheduler.step()\n",
        "\n",
        "    # Calculate the average loss over all of the batches.\n",
        "    avg_train_loss = total_train_loss / len(train_dataloader)\n",
        "\n",
        "    # Measure how long this epoch took.\n",
        "    training_time = format_time(time.time() - t0)\n",
        "\n",
        "    print(\"\")\n",
        "    print(\"  Average training loss: {0:.2f}\".format(avg_train_loss))\n",
        "    print(\"  Training epoch took: {:}\".format(training_time))\n",
        "\n",
        "    # ========================================\n",
        "    #               Validation\n",
        "    # ========================================\n",
        "\n",
        "    print(\"\")\n",
        "    print(\"Running Validation...\")\n",
        "\n",
        "    t0 = time.time()\n",
        "\n",
        "    model.eval()\n",
        "\n",
        "    total_eval_loss = 0\n",
        "    nb_eval_steps = 0\n",
        "\n",
        "    # Evaluate data for one epoch\n",
        "    for batch in validation_dataloader:\n",
        "\n",
        "        b_input_ids = batch[0].to(device)\n",
        "        b_labels = batch[0].to(device)\n",
        "        b_masks = batch[1].to(device)\n",
        "\n",
        "        with torch.no_grad():\n",
        "\n",
        "            outputs  = model(b_input_ids,\n",
        "                             attention_mask = b_masks,\n",
        "                            labels=b_labels)\n",
        "\n",
        "            loss = outputs[0]\n",
        "\n",
        "        batch_loss = loss.item()\n",
        "        total_eval_loss += batch_loss\n",
        "\n",
        "    avg_val_loss = total_eval_loss / len(validation_dataloader)\n",
        "\n",
        "    validation_time = format_time(time.time() - t0)\n",
        "\n",
        "    print(\"  Validation Loss: {0:.2f}\".format(avg_val_loss))\n",
        "    print(\"  Validation took: {:}\".format(validation_time))\n",
        "\n",
        "    # Record all statistics from this epoch.\n",
        "    training_stats.append(\n",
        "        {\n",
        "            'epoch': epoch_i + 1,\n",
        "            'Training Loss': avg_train_loss,\n",
        "            'Valid. Loss': avg_val_loss,\n",
        "            'Training Time': training_time,\n",
        "            'Validation Time': validation_time\n",
        "        }\n",
        "    )\n",
        "\n",
        "print(\"\")\n",
        "print(\"Training complete!\")\n",
        "print(\"Total training took {:} (h:mm:ss)\".format(format_time(time.time()-total_t0)))"
      ]
    },
    {
      "cell_type": "markdown",
      "metadata": {
        "id": "VQTvJ1vRP7u4"
      },
      "source": [
        "Let's view the summary of the training process."
      ]
    },
    {
      "cell_type": "code",
      "execution_count": 26,
      "metadata": {
        "colab": {
          "base_uri": "https://localhost:8080/",
          "height": 237
        },
        "id": "6O_NbXFGMukX",
        "outputId": "fa99e3ad-c5f3-40f9-a40f-1fd768ad20f7"
      },
      "outputs": [
        {
          "output_type": "execute_result",
          "data": {
            "text/plain": [
              "       Training Loss  Valid. Loss Training Time Validation Time\n",
              "epoch                                                          \n",
              "1              24.85        13.88       0:00:16         0:00:01\n",
              "2               7.41         3.73       0:00:15         0:00:01\n",
              "3               2.85         1.79       0:00:14         0:00:01\n",
              "4               1.76         1.31       0:00:14         0:00:01\n",
              "5               1.47         1.19       0:00:15         0:00:01"
            ],
            "text/html": [
              "\n",
              "  <div id=\"df-f40c0aaf-697b-40da-8660-1538ebd6504f\" class=\"colab-df-container\">\n",
              "    <div>\n",
              "<style scoped>\n",
              "    .dataframe tbody tr th:only-of-type {\n",
              "        vertical-align: middle;\n",
              "    }\n",
              "\n",
              "    .dataframe tbody tr th {\n",
              "        vertical-align: top;\n",
              "    }\n",
              "\n",
              "    .dataframe thead th {\n",
              "        text-align: right;\n",
              "    }\n",
              "</style>\n",
              "<table border=\"1\" class=\"dataframe\">\n",
              "  <thead>\n",
              "    <tr style=\"text-align: right;\">\n",
              "      <th></th>\n",
              "      <th>Training Loss</th>\n",
              "      <th>Valid. Loss</th>\n",
              "      <th>Training Time</th>\n",
              "      <th>Validation Time</th>\n",
              "    </tr>\n",
              "    <tr>\n",
              "      <th>epoch</th>\n",
              "      <th></th>\n",
              "      <th></th>\n",
              "      <th></th>\n",
              "      <th></th>\n",
              "    </tr>\n",
              "  </thead>\n",
              "  <tbody>\n",
              "    <tr>\n",
              "      <th>1</th>\n",
              "      <td>24.85</td>\n",
              "      <td>13.88</td>\n",
              "      <td>0:00:16</td>\n",
              "      <td>0:00:01</td>\n",
              "    </tr>\n",
              "    <tr>\n",
              "      <th>2</th>\n",
              "      <td>7.41</td>\n",
              "      <td>3.73</td>\n",
              "      <td>0:00:15</td>\n",
              "      <td>0:00:01</td>\n",
              "    </tr>\n",
              "    <tr>\n",
              "      <th>3</th>\n",
              "      <td>2.85</td>\n",
              "      <td>1.79</td>\n",
              "      <td>0:00:14</td>\n",
              "      <td>0:00:01</td>\n",
              "    </tr>\n",
              "    <tr>\n",
              "      <th>4</th>\n",
              "      <td>1.76</td>\n",
              "      <td>1.31</td>\n",
              "      <td>0:00:14</td>\n",
              "      <td>0:00:01</td>\n",
              "    </tr>\n",
              "    <tr>\n",
              "      <th>5</th>\n",
              "      <td>1.47</td>\n",
              "      <td>1.19</td>\n",
              "      <td>0:00:15</td>\n",
              "      <td>0:00:01</td>\n",
              "    </tr>\n",
              "  </tbody>\n",
              "</table>\n",
              "</div>\n",
              "    <div class=\"colab-df-buttons\">\n",
              "\n",
              "  <div class=\"colab-df-container\">\n",
              "    <button class=\"colab-df-convert\" onclick=\"convertToInteractive('df-f40c0aaf-697b-40da-8660-1538ebd6504f')\"\n",
              "            title=\"Convert this dataframe to an interactive table.\"\n",
              "            style=\"display:none;\">\n",
              "\n",
              "  <svg xmlns=\"http://www.w3.org/2000/svg\" height=\"24px\" viewBox=\"0 -960 960 960\">\n",
              "    <path d=\"M120-120v-720h720v720H120Zm60-500h600v-160H180v160Zm220 220h160v-160H400v160Zm0 220h160v-160H400v160ZM180-400h160v-160H180v160Zm440 0h160v-160H620v160ZM180-180h160v-160H180v160Zm440 0h160v-160H620v160Z\"/>\n",
              "  </svg>\n",
              "    </button>\n",
              "\n",
              "  <style>\n",
              "    .colab-df-container {\n",
              "      display:flex;\n",
              "      gap: 12px;\n",
              "    }\n",
              "\n",
              "    .colab-df-convert {\n",
              "      background-color: #E8F0FE;\n",
              "      border: none;\n",
              "      border-radius: 50%;\n",
              "      cursor: pointer;\n",
              "      display: none;\n",
              "      fill: #1967D2;\n",
              "      height: 32px;\n",
              "      padding: 0 0 0 0;\n",
              "      width: 32px;\n",
              "    }\n",
              "\n",
              "    .colab-df-convert:hover {\n",
              "      background-color: #E2EBFA;\n",
              "      box-shadow: 0px 1px 2px rgba(60, 64, 67, 0.3), 0px 1px 3px 1px rgba(60, 64, 67, 0.15);\n",
              "      fill: #174EA6;\n",
              "    }\n",
              "\n",
              "    .colab-df-buttons div {\n",
              "      margin-bottom: 4px;\n",
              "    }\n",
              "\n",
              "    [theme=dark] .colab-df-convert {\n",
              "      background-color: #3B4455;\n",
              "      fill: #D2E3FC;\n",
              "    }\n",
              "\n",
              "    [theme=dark] .colab-df-convert:hover {\n",
              "      background-color: #434B5C;\n",
              "      box-shadow: 0px 1px 3px 1px rgba(0, 0, 0, 0.15);\n",
              "      filter: drop-shadow(0px 1px 2px rgba(0, 0, 0, 0.3));\n",
              "      fill: #FFFFFF;\n",
              "    }\n",
              "  </style>\n",
              "\n",
              "    <script>\n",
              "      const buttonEl =\n",
              "        document.querySelector('#df-f40c0aaf-697b-40da-8660-1538ebd6504f button.colab-df-convert');\n",
              "      buttonEl.style.display =\n",
              "        google.colab.kernel.accessAllowed ? 'block' : 'none';\n",
              "\n",
              "      async function convertToInteractive(key) {\n",
              "        const element = document.querySelector('#df-f40c0aaf-697b-40da-8660-1538ebd6504f');\n",
              "        const dataTable =\n",
              "          await google.colab.kernel.invokeFunction('convertToInteractive',\n",
              "                                                    [key], {});\n",
              "        if (!dataTable) return;\n",
              "\n",
              "        const docLinkHtml = 'Like what you see? Visit the ' +\n",
              "          '<a target=\"_blank\" href=https://colab.research.google.com/notebooks/data_table.ipynb>data table notebook</a>'\n",
              "          + ' to learn more about interactive tables.';\n",
              "        element.innerHTML = '';\n",
              "        dataTable['output_type'] = 'display_data';\n",
              "        await google.colab.output.renderOutput(dataTable, element);\n",
              "        const docLink = document.createElement('div');\n",
              "        docLink.innerHTML = docLinkHtml;\n",
              "        element.appendChild(docLink);\n",
              "      }\n",
              "    </script>\n",
              "  </div>\n",
              "\n",
              "\n",
              "<div id=\"df-d6504cff-c69d-4798-b1b2-f05e9699b186\">\n",
              "  <button class=\"colab-df-quickchart\" onclick=\"quickchart('df-d6504cff-c69d-4798-b1b2-f05e9699b186')\"\n",
              "            title=\"Suggest charts\"\n",
              "            style=\"display:none;\">\n",
              "\n",
              "<svg xmlns=\"http://www.w3.org/2000/svg\" height=\"24px\"viewBox=\"0 0 24 24\"\n",
              "     width=\"24px\">\n",
              "    <g>\n",
              "        <path d=\"M19 3H5c-1.1 0-2 .9-2 2v14c0 1.1.9 2 2 2h14c1.1 0 2-.9 2-2V5c0-1.1-.9-2-2-2zM9 17H7v-7h2v7zm4 0h-2V7h2v10zm4 0h-2v-4h2v4z\"/>\n",
              "    </g>\n",
              "</svg>\n",
              "  </button>\n",
              "\n",
              "<style>\n",
              "  .colab-df-quickchart {\n",
              "      --bg-color: #E8F0FE;\n",
              "      --fill-color: #1967D2;\n",
              "      --hover-bg-color: #E2EBFA;\n",
              "      --hover-fill-color: #174EA6;\n",
              "      --disabled-fill-color: #AAA;\n",
              "      --disabled-bg-color: #DDD;\n",
              "  }\n",
              "\n",
              "  [theme=dark] .colab-df-quickchart {\n",
              "      --bg-color: #3B4455;\n",
              "      --fill-color: #D2E3FC;\n",
              "      --hover-bg-color: #434B5C;\n",
              "      --hover-fill-color: #FFFFFF;\n",
              "      --disabled-bg-color: #3B4455;\n",
              "      --disabled-fill-color: #666;\n",
              "  }\n",
              "\n",
              "  .colab-df-quickchart {\n",
              "    background-color: var(--bg-color);\n",
              "    border: none;\n",
              "    border-radius: 50%;\n",
              "    cursor: pointer;\n",
              "    display: none;\n",
              "    fill: var(--fill-color);\n",
              "    height: 32px;\n",
              "    padding: 0;\n",
              "    width: 32px;\n",
              "  }\n",
              "\n",
              "  .colab-df-quickchart:hover {\n",
              "    background-color: var(--hover-bg-color);\n",
              "    box-shadow: 0 1px 2px rgba(60, 64, 67, 0.3), 0 1px 3px 1px rgba(60, 64, 67, 0.15);\n",
              "    fill: var(--button-hover-fill-color);\n",
              "  }\n",
              "\n",
              "  .colab-df-quickchart-complete:disabled,\n",
              "  .colab-df-quickchart-complete:disabled:hover {\n",
              "    background-color: var(--disabled-bg-color);\n",
              "    fill: var(--disabled-fill-color);\n",
              "    box-shadow: none;\n",
              "  }\n",
              "\n",
              "  .colab-df-spinner {\n",
              "    border: 2px solid var(--fill-color);\n",
              "    border-color: transparent;\n",
              "    border-bottom-color: var(--fill-color);\n",
              "    animation:\n",
              "      spin 1s steps(1) infinite;\n",
              "  }\n",
              "\n",
              "  @keyframes spin {\n",
              "    0% {\n",
              "      border-color: transparent;\n",
              "      border-bottom-color: var(--fill-color);\n",
              "      border-left-color: var(--fill-color);\n",
              "    }\n",
              "    20% {\n",
              "      border-color: transparent;\n",
              "      border-left-color: var(--fill-color);\n",
              "      border-top-color: var(--fill-color);\n",
              "    }\n",
              "    30% {\n",
              "      border-color: transparent;\n",
              "      border-left-color: var(--fill-color);\n",
              "      border-top-color: var(--fill-color);\n",
              "      border-right-color: var(--fill-color);\n",
              "    }\n",
              "    40% {\n",
              "      border-color: transparent;\n",
              "      border-right-color: var(--fill-color);\n",
              "      border-top-color: var(--fill-color);\n",
              "    }\n",
              "    60% {\n",
              "      border-color: transparent;\n",
              "      border-right-color: var(--fill-color);\n",
              "    }\n",
              "    80% {\n",
              "      border-color: transparent;\n",
              "      border-right-color: var(--fill-color);\n",
              "      border-bottom-color: var(--fill-color);\n",
              "    }\n",
              "    90% {\n",
              "      border-color: transparent;\n",
              "      border-bottom-color: var(--fill-color);\n",
              "    }\n",
              "  }\n",
              "</style>\n",
              "\n",
              "  <script>\n",
              "    async function quickchart(key) {\n",
              "      const quickchartButtonEl =\n",
              "        document.querySelector('#' + key + ' button');\n",
              "      quickchartButtonEl.disabled = true;  // To prevent multiple clicks.\n",
              "      quickchartButtonEl.classList.add('colab-df-spinner');\n",
              "      try {\n",
              "        const charts = await google.colab.kernel.invokeFunction(\n",
              "            'suggestCharts', [key], {});\n",
              "      } catch (error) {\n",
              "        console.error('Error during call to suggestCharts:', error);\n",
              "      }\n",
              "      quickchartButtonEl.classList.remove('colab-df-spinner');\n",
              "      quickchartButtonEl.classList.add('colab-df-quickchart-complete');\n",
              "    }\n",
              "    (() => {\n",
              "      let quickchartButtonEl =\n",
              "        document.querySelector('#df-d6504cff-c69d-4798-b1b2-f05e9699b186 button');\n",
              "      quickchartButtonEl.style.display =\n",
              "        google.colab.kernel.accessAllowed ? 'block' : 'none';\n",
              "    })();\n",
              "  </script>\n",
              "</div>\n",
              "\n",
              "  <div id=\"id_70a5a998-01e8-4a0c-83b6-8506d3b6807c\">\n",
              "    <style>\n",
              "      .colab-df-generate {\n",
              "        background-color: #E8F0FE;\n",
              "        border: none;\n",
              "        border-radius: 50%;\n",
              "        cursor: pointer;\n",
              "        display: none;\n",
              "        fill: #1967D2;\n",
              "        height: 32px;\n",
              "        padding: 0 0 0 0;\n",
              "        width: 32px;\n",
              "      }\n",
              "\n",
              "      .colab-df-generate:hover {\n",
              "        background-color: #E2EBFA;\n",
              "        box-shadow: 0px 1px 2px rgba(60, 64, 67, 0.3), 0px 1px 3px 1px rgba(60, 64, 67, 0.15);\n",
              "        fill: #174EA6;\n",
              "      }\n",
              "\n",
              "      [theme=dark] .colab-df-generate {\n",
              "        background-color: #3B4455;\n",
              "        fill: #D2E3FC;\n",
              "      }\n",
              "\n",
              "      [theme=dark] .colab-df-generate:hover {\n",
              "        background-color: #434B5C;\n",
              "        box-shadow: 0px 1px 3px 1px rgba(0, 0, 0, 0.15);\n",
              "        filter: drop-shadow(0px 1px 2px rgba(0, 0, 0, 0.3));\n",
              "        fill: #FFFFFF;\n",
              "      }\n",
              "    </style>\n",
              "    <button class=\"colab-df-generate\" onclick=\"generateWithVariable('df_stats')\"\n",
              "            title=\"Generate code using this dataframe.\"\n",
              "            style=\"display:none;\">\n",
              "\n",
              "  <svg xmlns=\"http://www.w3.org/2000/svg\" height=\"24px\"viewBox=\"0 0 24 24\"\n",
              "       width=\"24px\">\n",
              "    <path d=\"M7,19H8.4L18.45,9,17,7.55,7,17.6ZM5,21V16.75L18.45,3.32a2,2,0,0,1,2.83,0l1.4,1.43a1.91,1.91,0,0,1,.58,1.4,1.91,1.91,0,0,1-.58,1.4L9.25,21ZM18.45,9,17,7.55Zm-12,3A5.31,5.31,0,0,0,4.9,8.1,5.31,5.31,0,0,0,1,6.5,5.31,5.31,0,0,0,4.9,4.9,5.31,5.31,0,0,0,6.5,1,5.31,5.31,0,0,0,8.1,4.9,5.31,5.31,0,0,0,12,6.5,5.46,5.46,0,0,0,6.5,12Z\"/>\n",
              "  </svg>\n",
              "    </button>\n",
              "    <script>\n",
              "      (() => {\n",
              "      const buttonEl =\n",
              "        document.querySelector('#id_70a5a998-01e8-4a0c-83b6-8506d3b6807c button.colab-df-generate');\n",
              "      buttonEl.style.display =\n",
              "        google.colab.kernel.accessAllowed ? 'block' : 'none';\n",
              "\n",
              "      buttonEl.onclick = () => {\n",
              "        google.colab.notebook.generateWithVariable('df_stats');\n",
              "      }\n",
              "      })();\n",
              "    </script>\n",
              "  </div>\n",
              "\n",
              "    </div>\n",
              "  </div>\n"
            ]
          },
          "metadata": {},
          "execution_count": 26
        }
      ],
      "source": [
        "# Display floats with two decimal places.\n",
        "pd.set_option('display.precision', 2)\n",
        "\n",
        "# Create a DataFrame from our training statistics.\n",
        "df_stats = pd.DataFrame(data=training_stats)\n",
        "\n",
        "# Use the 'epoch' as the row index.\n",
        "df_stats = df_stats.set_index('epoch')\n",
        "\n",
        "# A hack to force the column headers to wrap.\n",
        "#df = df.style.set_table_styles([dict(selector=\"th\",props=[('max-width', '70px')])])\n",
        "\n",
        "# Display the table.\n",
        "df_stats"
      ]
    },
    {
      "cell_type": "code",
      "execution_count": 27,
      "metadata": {
        "colab": {
          "base_uri": "https://localhost:8080/",
          "height": 592
        },
        "id": "68xreA9JAmG5",
        "outputId": "2a64cb3c-656e-4fc4-cae0-3951b724f48f"
      },
      "outputs": [
        {
          "output_type": "display_data",
          "data": {
            "text/plain": [
              "<Figure size 1200x600 with 1 Axes>"
            ],
            "image/png": "[encoded data removed]"
          },
          "metadata": {}
        }
      ],
      "source": [
        "# Use plot styling from seaborn.\n",
        "sns.set(style='darkgrid')\n",
        "\n",
        "# Increase the plot size and font size.\n",
        "sns.set(font_scale=1.5)\n",
        "plt.rcParams[\"figure.figsize\"] = (12,6)\n",
        "\n",
        "# Plot the learning curve.\n",
        "plt.plot(df_stats['Training Loss'], 'b-o', label=\"Training\")\n",
        "plt.plot(df_stats['Valid. Loss'], 'g-o', label=\"Validation\")\n",
        "\n",
        "# Label the plot.\n",
        "plt.title(\"Training & Validation Loss\")\n",
        "plt.xlabel(\"Epoch\")\n",
        "plt.ylabel(\"Loss\")\n",
        "plt.legend()\n",
        "plt.xticks([1, 2, 3, 4])\n",
        "\n",
        "plt.show()"
      ]
    },
    {
      "cell_type": "markdown",
      "metadata": {
        "id": "GfjYoa6WmkN6"
      },
      "source": [
        "# Display Model Info"
      ]
    },
    {
      "cell_type": "code",
      "execution_count": 29,
      "metadata": {
        "colab": {
          "base_uri": "https://localhost:8080/"
        },
        "id": "8PIiVlDYCtSq",
        "outputId": "64954643-c1b1-4f60-d38e-c27fb58485d2"
      },
      "outputs": [
        {
          "output_type": "stream",
          "name": "stdout",
          "text": [
            "The T5 model has 131 different named parameters.\n",
            "\n",
            "==== Embedding Layer ====\n",
            "\n",
            "shared.weight                                           (32103, 512)\n",
            "encoder.block.0.layer.0.SelfAttention.q.weight            (512, 512)\n",
            "\n",
            "==== First Transformer ====\n",
            "\n",
            "encoder.block.0.layer.0.SelfAttention.k.weight            (512, 512)\n",
            "encoder.block.0.layer.0.SelfAttention.v.weight            (512, 512)\n",
            "encoder.block.0.layer.0.SelfAttention.o.weight            (512, 512)\n",
            "encoder.block.0.layer.0.SelfAttention.relative_attention_bias.weight      (32, 8)\n",
            "encoder.block.0.layer.0.layer_norm.weight                     (512,)\n",
            "encoder.block.0.layer.1.DenseReluDense.wi.weight         (2048, 512)\n",
            "encoder.block.0.layer.1.DenseReluDense.wo.weight         (512, 2048)\n",
            "encoder.block.0.layer.1.layer_norm.weight                     (512,)\n",
            "encoder.block.1.layer.0.SelfAttention.q.weight            (512, 512)\n",
            "encoder.block.1.layer.0.SelfAttention.k.weight            (512, 512)\n",
            "encoder.block.1.layer.0.SelfAttention.v.weight            (512, 512)\n",
            "encoder.block.1.layer.0.SelfAttention.o.weight            (512, 512)\n",
            "\n",
            "==== Output Layer ====\n",
            "\n",
            "decoder.block.5.layer.2.layer_norm.weight                     (512,)\n",
            "decoder.final_layer_norm.weight                               (512,)\n"
          ]
        }
      ],
      "source": [
        "# Get all of the model's parameters as a list of tuples.\n",
        "params = list(model.named_parameters())\n",
        "\n",
        "print('The T5 model has {:} different named parameters.\\n'.format(len(params)))\n",
        "\n",
        "print('==== Embedding Layer ====\\n')\n",
        "\n",
        "for p in params[0:2]:\n",
        "    print(\"{:<55} {:>12}\".format(p[0], str(tuple(p[1].size()))))\n",
        "\n",
        "print('\\n==== First Transformer ====\\n')\n",
        "\n",
        "for p in params[2:14]:\n",
        "    print(\"{:<55} {:>12}\".format(p[0], str(tuple(p[1].size()))))\n",
        "\n",
        "print('\\n==== Output Layer ====\\n')\n",
        "\n",
        "for p in params[-2:]:\n",
        "    print(\"{:<55} {:>12}\".format(p[0], str(tuple(p[1].size()))))"
      ]
    },
    {
      "cell_type": "markdown",
      "metadata": {
        "id": "q2079Qyn8Mt8"
      },
      "source": [
        "# Saving & Loading Fine-Tuned Model\n"
      ]
    },
    {
      "cell_type": "code",
      "execution_count": 30,
      "metadata": {
        "colab": {
          "base_uri": "https://localhost:8080/"
        },
        "id": "6ulTWaOr8QNY",
        "outputId": "daa51dc4-3a35-4fd6-9af5-1171d7fa196d"
      },
      "outputs": [
        {
          "output_type": "stream",
          "name": "stdout",
          "text": [
            "Saving model to ./wash5_model_save/\n"
          ]
        },
        {
          "output_type": "execute_result",
          "data": {
            "text/plain": [
              "('./wash5_model_save/tokenizer_config.json',\n",
              " './wash5_model_save/special_tokens_map.json',\n",
              " './wash5_model_save/tokenizer.json')"
            ]
          },
          "metadata": {},
          "execution_count": 30
        }
      ],
      "source": [
        "# Saving best-practices: if you use defaults names for the model, you can reload it using from_pretrained()\n",
        "\n",
        "output_dir = './wash5_model_save/'\n",
        "\n",
        "# Create output directory if needed\n",
        "if not os.path.exists(output_dir):\n",
        "    os.makedirs(output_dir)\n",
        "\n",
        "print(\"Saving model to %s\" % output_dir)\n",
        "\n",
        "# Save a trained model, configuration and tokenizer using `save_pretrained()`.\n",
        "# They can then be reloaded using `from_pretrained()`\n",
        "model_to_save = model.module if hasattr(model, 'module') else model  # Take care of distributed/parallel training\n",
        "model_to_save.save_pretrained(output_dir)\n",
        "tokenizer.save_pretrained(output_dir)\n",
        "\n",
        "# Good practice: save your training arguments together with the trained model\n",
        "# torch.save(args, os.path.join(output_dir, 'training_args.bin'))\n"
      ]
    },
    {
      "cell_type": "code",
      "execution_count": 31,
      "metadata": {
        "id": "k78XyRCtPTQD"
      },
      "outputs": [],
      "source": [
        "import locale\n",
        "locale.getpreferredencoding = lambda: \"UTF-8\""
      ]
    },
    {
      "cell_type": "code",
      "execution_count": 32,
      "metadata": {
        "colab": {
          "base_uri": "https://localhost:8080/"
        },
        "id": "mqMzI3VTCZo5",
        "outputId": "2aaa38c4-a538-49d6-9d22-6d083aefffb7"
      },
      "outputs": [
        {
          "output_type": "stream",
          "name": "stdout",
          "text": [
            "ls: cannot access './model_save/': No such file or directory\n"
          ]
        }
      ],
      "source": [
        "!ls -l --block-size=K ./model_save/"
      ]
    },
    {
      "cell_type": "markdown",
      "metadata": {
        "id": "ZLf6rbRglYhQ"
      },
      "source": [
        "# Generate Text"
      ]
    },
    {
      "cell_type": "code",
      "source": [
        "!ls"
      ],
      "metadata": {
        "colab": {
          "base_uri": "https://localhost:8080/"
        },
        "id": "FGvqrWGLuWPE",
        "outputId": "ed87e930-d75d-4d4e-ff27-e52297d373f1"
      },
      "execution_count": 33,
      "outputs": [
        {
          "output_type": "stream",
          "name": "stdout",
          "text": [
            "gen_hitler.txt\t       hitler.json\t  joe_biden.json       t5-outputs\t wash_model_save\n",
            "george_washinton.json  hitler_model_save  john_f_kennedy.json  wash5_model_save\n"
          ]
        }
      ]
    },
    {
      "cell_type": "code",
      "execution_count": 25,
      "metadata": {
        "colab": {
          "base_uri": "https://localhost:8080/"
        },
        "id": "v4XhewaV93-_",
        "outputId": "1f51b7e6-40d1-424b-9f8a-89e095fbac33"
      },
      "outputs": [
        {
          "output_type": "stream",
          "name": "stdout",
          "text": [
            "tensor([[1371,   19,    1]])\n"
          ]
        }
      ],
      "source": [
        "model = T5ForConditionalGeneration.from_pretrained(\"wash5_model_save\")\n",
        "model.eval()\n",
        "\n",
        "prompt = \"America is\"\n",
        "\n",
        "generated = torch.tensor(tokenizer.encode(prompt)).unsqueeze(0)\n",
        "# generated = generated.to(device)\n",
        "\n",
        "print(generated)\n",
        "\n",
        "sample_outputs = model.generate(\n",
        "                                generated,\n",
        "                                #bos_token_id=random.randint(1,30000),\n",
        "                                do_sample=True,\n",
        "                                top_k=50,\n",
        "                                max_length = 100,\n",
        "                                top_p=0.95,\n",
        "                                num_return_sequences=10\n",
        "                                )\n",
        "ops = []\n",
        "for i, sample_output in enumerate(sample_outputs):\n",
        "  ops.append(sample_output)\n",
        "  # print(\"{}: {}\\n\\n\".format(i, tokenizer.decode(sample_output, skip_special_tokens=True)))"
      ]
    },
    {
      "cell_type": "code",
      "execution_count": 26,
      "metadata": {
        "id": "hvrRKwx3yyeD"
      },
      "outputs": [],
      "source": [
        "gen_text=[]\n",
        "for i in ops:\n",
        "  gen_text.append(tokenizer.decode(i, skip_special_tokens=True))"
      ]
    },
    {
      "cell_type": "code",
      "execution_count": 27,
      "metadata": {
        "id": "FExmuYX13dlq"
      },
      "outputs": [],
      "source": [
        "abe= \" \".join(gen_text)"
      ]
    },
    {
      "cell_type": "code",
      "source": [
        "abe"
      ],
      "metadata": {
        "colab": {
          "base_uri": "https://localhost:8080/",
          "height": 53
        },
        "id": "1Yax-iIC9Zok",
        "outputId": "42b52801-9e95-46fc-beef-96f506114feb"
      },
      "execution_count": 28,
      "outputs": [
        {
          "output_type": "execute_result",
          "data": {
            "text/plain": [
              "'Minnesota est Beide America is the only member state Amérique est Am Amerika ist Spirit Spirit Spirit America All He has Beideamerikan); der Reihe America State Senator Billboardboard is a member of the Northeast America is where it is the first time she lives Amerika ist Amérique are obsessed with'"
            ],
            "application/vnd.google.colaboratory.intrinsic+json": {
              "type": "string"
            }
          },
          "metadata": {},
          "execution_count": 28
        }
      ]
    },
    {
      "cell_type": "code",
      "execution_count": null,
      "metadata": {
        "id": "EmVd8mwrq0KN"
      },
      "outputs": [],
      "source": [
        "!pwd"
      ]
    },
    {
      "cell_type": "code",
      "execution_count": null,
      "metadata": {
        "id": "2bukHt5B3wfF"
      },
      "outputs": [],
      "source": [
        "with open(\"t5-outputs/gen_wash.txt\", \"w\", encoding='utf-8') as f:\n",
        "  f.write(abe)"
      ]
    }
  ]
}